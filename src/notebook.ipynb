{
  "cells": [
    {
      "metadata": {
        "ExecuteTime": {
          "end_time": "2025-07-06T19:27:30.609786Z",
          "start_time": "2025-07-06T19:27:30.603227Z"
        },
        "id": "7117191b989792a2"
      },
      "cell_type": "code",
      "source": [
        "#!pip install -r requirements.txt"
      ],
      "id": "7117191b989792a2",
      "outputs": [],
      "execution_count": null
    },
    {
      "metadata": {
        "ExecuteTime": {
          "end_time": "2025-07-06T19:27:41.724973Z",
          "start_time": "2025-07-06T19:27:30.726726Z"
        },
        "colab": {
          "base_uri": "https://localhost:8080/"
        },
        "id": "1b649e23df0e3be7",
        "outputId": "ea229743-c968-4274-edb6-724d7db264ea"
      },
      "cell_type": "code",
      "source": [
        "import pandas as pd\n",
        "import numpy as np\n",
        "import matplotlib.pyplot as plt\n",
        "import kagglehub\n",
        "import torch\n",
        "\n",
        "# Download latest version\n",
        "path = kagglehub.dataset_download(\"arashnic/book-recommendation-dataset\")\n",
        "# path = '../dataset'\n",
        "\n",
        "books = pd.read_csv(f\"{path}/Books.csv\")\n",
        "ratings = pd.read_csv(f\"{path}/Ratings.csv\")\n",
        "users= pd.read_csv(f\"{path}/Users.csv\")\n",
        "\n",
        "book_of_interest = 'the lord of the rings'"
      ],
      "id": "1b649e23df0e3be7",
      "outputs": [
        {
          "output_type": "stream",
          "name": "stderr",
          "text": [
            "/tmp/ipython-input-2-3960183323.py:11: DtypeWarning: Columns (3) have mixed types. Specify dtype option on import or set low_memory=False.\n",
            "  books = pd.read_csv(f\"{path}/Books.csv\")\n"
          ]
        }
      ],
      "execution_count": 2
    },
    {
      "metadata": {
        "id": "f5e3bd3f8d60c89f"
      },
      "cell_type": "markdown",
      "source": [
        "Find LOTR books in the database"
      ],
      "id": "f5e3bd3f8d60c89f"
    },
    {
      "metadata": {
        "ExecuteTime": {
          "end_time": "2025-07-06T19:27:42.202018Z",
          "start_time": "2025-07-06T19:27:42.037887Z"
        },
        "colab": {
          "base_uri": "https://localhost:8080/",
          "height": 710
        },
        "id": "4f87ba9160069596",
        "outputId": "a4f0e1cc-0675-44d9-fd65-ab29b10fcc93"
      },
      "cell_type": "code",
      "source": [
        "lotr_books = books[books[\"Book-Title\"].str.contains(book_of_interest, case=False)]\n",
        "lotr_books.head()"
      ],
      "id": "4f87ba9160069596",
      "outputs": [
        {
          "output_type": "execute_result",
          "data": {
            "text/plain": [
              "             ISBN                                         Book-Title  \\\n",
              "780    0345339711     The Two Towers (The Lord of the Rings, Part 2)   \n",
              "1571   0345339703  The Fellowship of the Ring (The Lord of the Ri...   \n",
              "3354   0345339681  The Hobbit : The Enchanting Prelude to The Lor...   \n",
              "4206   0345339738  The Return of the King (The Lord of the Rings,...   \n",
              "6060   0618129022            The Lord of the Rings (Movie Art Cover)   \n",
              "6866   0345340426               The Hobbit and The Lord of the Rings   \n",
              "11083  0618129014            The Lord of the Rings (Movie Art Cover)   \n",
              "12761  0618002243  The Return of the King (The Lord of The Rings,...   \n",
              "12762  0618002235     The Two Towers (The Lord of the Rings, Part 2)   \n",
              "12763  0618002227  The Fellowship of the Ring (The Lord of the Ri...   \n",
              "\n",
              "            Book-Author Year-Of-Publication                 Publisher  \\\n",
              "780      J.R.R. TOLKIEN                1986                   Del Rey   \n",
              "1571     J.R.R. TOLKIEN                1986                   Del Rey   \n",
              "3354     J.R.R. TOLKIEN                1986                   Del Rey   \n",
              "4206     J.R.R. TOLKIEN                1986                   Del Rey   \n",
              "6060     J.R.R. Tolkien                2001  Houghton Mifflin Company   \n",
              "6866     J.R.R. TOLKIEN                1986                   Del Rey   \n",
              "11083  J. R. R. Tolkien                2001  Houghton Mifflin Company   \n",
              "12761  J. R. R. Tolkien                1999  Houghton Mifflin Company   \n",
              "12762  J. R. R. Tolkien                1999  Houghton Mifflin Company   \n",
              "12763  J. R. R. Tolkien                1999  Houghton Mifflin Company   \n",
              "\n",
              "                                             Image-URL-S  \\\n",
              "780    http://images.amazon.com/images/P/0345339711.0...   \n",
              "1571   http://images.amazon.com/images/P/0345339703.0...   \n",
              "3354   http://images.amazon.com/images/P/0345339681.0...   \n",
              "4206   http://images.amazon.com/images/P/0345339738.0...   \n",
              "6060   http://images.amazon.com/images/P/0618129022.0...   \n",
              "6866   http://images.amazon.com/images/P/0345340426.0...   \n",
              "11083  http://images.amazon.com/images/P/0618129014.0...   \n",
              "12761  http://images.amazon.com/images/P/0618002243.0...   \n",
              "12762  http://images.amazon.com/images/P/0618002235.0...   \n",
              "12763  http://images.amazon.com/images/P/0618002227.0...   \n",
              "\n",
              "                                             Image-URL-M  \\\n",
              "780    http://images.amazon.com/images/P/0345339711.0...   \n",
              "1571   http://images.amazon.com/images/P/0345339703.0...   \n",
              "3354   http://images.amazon.com/images/P/0345339681.0...   \n",
              "4206   http://images.amazon.com/images/P/0345339738.0...   \n",
              "6060   http://images.amazon.com/images/P/0618129022.0...   \n",
              "6866   http://images.amazon.com/images/P/0345340426.0...   \n",
              "11083  http://images.amazon.com/images/P/0618129014.0...   \n",
              "12761  http://images.amazon.com/images/P/0618002243.0...   \n",
              "12762  http://images.amazon.com/images/P/0618002235.0...   \n",
              "12763  http://images.amazon.com/images/P/0618002227.0...   \n",
              "\n",
              "                                             Image-URL-L  \n",
              "780    http://images.amazon.com/images/P/0345339711.0...  \n",
              "1571   http://images.amazon.com/images/P/0345339703.0...  \n",
              "3354   http://images.amazon.com/images/P/0345339681.0...  \n",
              "4206   http://images.amazon.com/images/P/0345339738.0...  \n",
              "6060   http://images.amazon.com/images/P/0618129022.0...  \n",
              "6866   http://images.amazon.com/images/P/0345340426.0...  \n",
              "11083  http://images.amazon.com/images/P/0618129014.0...  \n",
              "12761  http://images.amazon.com/images/P/0618002243.0...  \n",
              "12762  http://images.amazon.com/images/P/0618002235.0...  \n",
              "12763  http://images.amazon.com/images/P/0618002227.0...  "
            ],
            "text/html": [
              "\n",
              "  <div id=\"df-3de8e170-5eb2-45c6-8163-4953c4d2273c\" class=\"colab-df-container\">\n",
              "    <div>\n",
              "<style scoped>\n",
              "    .dataframe tbody tr th:only-of-type {\n",
              "        vertical-align: middle;\n",
              "    }\n",
              "\n",
              "    .dataframe tbody tr th {\n",
              "        vertical-align: top;\n",
              "    }\n",
              "\n",
              "    .dataframe thead th {\n",
              "        text-align: right;\n",
              "    }\n",
              "</style>\n",
              "<table border=\"1\" class=\"dataframe\">\n",
              "  <thead>\n",
              "    <tr style=\"text-align: right;\">\n",
              "      <th></th>\n",
              "      <th>ISBN</th>\n",
              "      <th>Book-Title</th>\n",
              "      <th>Book-Author</th>\n",
              "      <th>Year-Of-Publication</th>\n",
              "      <th>Publisher</th>\n",
              "      <th>Image-URL-S</th>\n",
              "      <th>Image-URL-M</th>\n",
              "      <th>Image-URL-L</th>\n",
              "    </tr>\n",
              "  </thead>\n",
              "  <tbody>\n",
              "    <tr>\n",
              "      <th>780</th>\n",
              "      <td>0345339711</td>\n",
              "      <td>The Two Towers (The Lord of the Rings, Part 2)</td>\n",
              "      <td>J.R.R. TOLKIEN</td>\n",
              "      <td>1986</td>\n",
              "      <td>Del Rey</td>\n",
              "      <td>http://images.amazon.com/images/P/0345339711.0...</td>\n",
              "      <td>http://images.amazon.com/images/P/0345339711.0...</td>\n",
              "      <td>http://images.amazon.com/images/P/0345339711.0...</td>\n",
              "    </tr>\n",
              "    <tr>\n",
              "      <th>1571</th>\n",
              "      <td>0345339703</td>\n",
              "      <td>The Fellowship of the Ring (The Lord of the Ri...</td>\n",
              "      <td>J.R.R. TOLKIEN</td>\n",
              "      <td>1986</td>\n",
              "      <td>Del Rey</td>\n",
              "      <td>http://images.amazon.com/images/P/0345339703.0...</td>\n",
              "      <td>http://images.amazon.com/images/P/0345339703.0...</td>\n",
              "      <td>http://images.amazon.com/images/P/0345339703.0...</td>\n",
              "    </tr>\n",
              "    <tr>\n",
              "      <th>3354</th>\n",
              "      <td>0345339681</td>\n",
              "      <td>The Hobbit : The Enchanting Prelude to The Lor...</td>\n",
              "      <td>J.R.R. TOLKIEN</td>\n",
              "      <td>1986</td>\n",
              "      <td>Del Rey</td>\n",
              "      <td>http://images.amazon.com/images/P/0345339681.0...</td>\n",
              "      <td>http://images.amazon.com/images/P/0345339681.0...</td>\n",
              "      <td>http://images.amazon.com/images/P/0345339681.0...</td>\n",
              "    </tr>\n",
              "    <tr>\n",
              "      <th>4206</th>\n",
              "      <td>0345339738</td>\n",
              "      <td>The Return of the King (The Lord of the Rings,...</td>\n",
              "      <td>J.R.R. TOLKIEN</td>\n",
              "      <td>1986</td>\n",
              "      <td>Del Rey</td>\n",
              "      <td>http://images.amazon.com/images/P/0345339738.0...</td>\n",
              "      <td>http://images.amazon.com/images/P/0345339738.0...</td>\n",
              "      <td>http://images.amazon.com/images/P/0345339738.0...</td>\n",
              "    </tr>\n",
              "    <tr>\n",
              "      <th>6060</th>\n",
              "      <td>0618129022</td>\n",
              "      <td>The Lord of the Rings (Movie Art Cover)</td>\n",
              "      <td>J.R.R. Tolkien</td>\n",
              "      <td>2001</td>\n",
              "      <td>Houghton Mifflin Company</td>\n",
              "      <td>http://images.amazon.com/images/P/0618129022.0...</td>\n",
              "      <td>http://images.amazon.com/images/P/0618129022.0...</td>\n",
              "      <td>http://images.amazon.com/images/P/0618129022.0...</td>\n",
              "    </tr>\n",
              "    <tr>\n",
              "      <th>6866</th>\n",
              "      <td>0345340426</td>\n",
              "      <td>The Hobbit and The Lord of the Rings</td>\n",
              "      <td>J.R.R. TOLKIEN</td>\n",
              "      <td>1986</td>\n",
              "      <td>Del Rey</td>\n",
              "      <td>http://images.amazon.com/images/P/0345340426.0...</td>\n",
              "      <td>http://images.amazon.com/images/P/0345340426.0...</td>\n",
              "      <td>http://images.amazon.com/images/P/0345340426.0...</td>\n",
              "    </tr>\n",
              "    <tr>\n",
              "      <th>11083</th>\n",
              "      <td>0618129014</td>\n",
              "      <td>The Lord of the Rings (Movie Art Cover)</td>\n",
              "      <td>J. R. R. Tolkien</td>\n",
              "      <td>2001</td>\n",
              "      <td>Houghton Mifflin Company</td>\n",
              "      <td>http://images.amazon.com/images/P/0618129014.0...</td>\n",
              "      <td>http://images.amazon.com/images/P/0618129014.0...</td>\n",
              "      <td>http://images.amazon.com/images/P/0618129014.0...</td>\n",
              "    </tr>\n",
              "    <tr>\n",
              "      <th>12761</th>\n",
              "      <td>0618002243</td>\n",
              "      <td>The Return of the King (The Lord of The Rings,...</td>\n",
              "      <td>J. R. R. Tolkien</td>\n",
              "      <td>1999</td>\n",
              "      <td>Houghton Mifflin Company</td>\n",
              "      <td>http://images.amazon.com/images/P/0618002243.0...</td>\n",
              "      <td>http://images.amazon.com/images/P/0618002243.0...</td>\n",
              "      <td>http://images.amazon.com/images/P/0618002243.0...</td>\n",
              "    </tr>\n",
              "    <tr>\n",
              "      <th>12762</th>\n",
              "      <td>0618002235</td>\n",
              "      <td>The Two Towers (The Lord of the Rings, Part 2)</td>\n",
              "      <td>J. R. R. Tolkien</td>\n",
              "      <td>1999</td>\n",
              "      <td>Houghton Mifflin Company</td>\n",
              "      <td>http://images.amazon.com/images/P/0618002235.0...</td>\n",
              "      <td>http://images.amazon.com/images/P/0618002235.0...</td>\n",
              "      <td>http://images.amazon.com/images/P/0618002235.0...</td>\n",
              "    </tr>\n",
              "    <tr>\n",
              "      <th>12763</th>\n",
              "      <td>0618002227</td>\n",
              "      <td>The Fellowship of the Ring (The Lord of the Ri...</td>\n",
              "      <td>J. R. R. Tolkien</td>\n",
              "      <td>1999</td>\n",
              "      <td>Houghton Mifflin Company</td>\n",
              "      <td>http://images.amazon.com/images/P/0618002227.0...</td>\n",
              "      <td>http://images.amazon.com/images/P/0618002227.0...</td>\n",
              "      <td>http://images.amazon.com/images/P/0618002227.0...</td>\n",
              "    </tr>\n",
              "  </tbody>\n",
              "</table>\n",
              "</div>\n",
              "    <div class=\"colab-df-buttons\">\n",
              "\n",
              "  <div class=\"colab-df-container\">\n",
              "    <button class=\"colab-df-convert\" onclick=\"convertToInteractive('df-3de8e170-5eb2-45c6-8163-4953c4d2273c')\"\n",
              "            title=\"Convert this dataframe to an interactive table.\"\n",
              "            style=\"display:none;\">\n",
              "\n",
              "  <svg xmlns=\"http://www.w3.org/2000/svg\" height=\"24px\" viewBox=\"0 -960 960 960\">\n",
              "    <path d=\"M120-120v-720h720v720H120Zm60-500h600v-160H180v160Zm220 220h160v-160H400v160Zm0 220h160v-160H400v160ZM180-400h160v-160H180v160Zm440 0h160v-160H620v160ZM180-180h160v-160H180v160Zm440 0h160v-160H620v160Z\"/>\n",
              "  </svg>\n",
              "    </button>\n",
              "\n",
              "  <style>\n",
              "    .colab-df-container {\n",
              "      display:flex;\n",
              "      gap: 12px;\n",
              "    }\n",
              "\n",
              "    .colab-df-convert {\n",
              "      background-color: #E8F0FE;\n",
              "      border: none;\n",
              "      border-radius: 50%;\n",
              "      cursor: pointer;\n",
              "      display: none;\n",
              "      fill: #1967D2;\n",
              "      height: 32px;\n",
              "      padding: 0 0 0 0;\n",
              "      width: 32px;\n",
              "    }\n",
              "\n",
              "    .colab-df-convert:hover {\n",
              "      background-color: #E2EBFA;\n",
              "      box-shadow: 0px 1px 2px rgba(60, 64, 67, 0.3), 0px 1px 3px 1px rgba(60, 64, 67, 0.15);\n",
              "      fill: #174EA6;\n",
              "    }\n",
              "\n",
              "    .colab-df-buttons div {\n",
              "      margin-bottom: 4px;\n",
              "    }\n",
              "\n",
              "    [theme=dark] .colab-df-convert {\n",
              "      background-color: #3B4455;\n",
              "      fill: #D2E3FC;\n",
              "    }\n",
              "\n",
              "    [theme=dark] .colab-df-convert:hover {\n",
              "      background-color: #434B5C;\n",
              "      box-shadow: 0px 1px 3px 1px rgba(0, 0, 0, 0.15);\n",
              "      filter: drop-shadow(0px 1px 2px rgba(0, 0, 0, 0.3));\n",
              "      fill: #FFFFFF;\n",
              "    }\n",
              "  </style>\n",
              "\n",
              "    <script>\n",
              "      const buttonEl =\n",
              "        document.querySelector('#df-3de8e170-5eb2-45c6-8163-4953c4d2273c button.colab-df-convert');\n",
              "      buttonEl.style.display =\n",
              "        google.colab.kernel.accessAllowed ? 'block' : 'none';\n",
              "\n",
              "      async function convertToInteractive(key) {\n",
              "        const element = document.querySelector('#df-3de8e170-5eb2-45c6-8163-4953c4d2273c');\n",
              "        const dataTable =\n",
              "          await google.colab.kernel.invokeFunction('convertToInteractive',\n",
              "                                                    [key], {});\n",
              "        if (!dataTable) return;\n",
              "\n",
              "        const docLinkHtml = 'Like what you see? Visit the ' +\n",
              "          '<a target=\"_blank\" href=https://colab.research.google.com/notebooks/data_table.ipynb>data table notebook</a>'\n",
              "          + ' to learn more about interactive tables.';\n",
              "        element.innerHTML = '';\n",
              "        dataTable['output_type'] = 'display_data';\n",
              "        await google.colab.output.renderOutput(dataTable, element);\n",
              "        const docLink = document.createElement('div');\n",
              "        docLink.innerHTML = docLinkHtml;\n",
              "        element.appendChild(docLink);\n",
              "      }\n",
              "    </script>\n",
              "  </div>\n",
              "\n",
              "\n",
              "    <div id=\"df-a1ab704d-93b3-4409-93a6-1a38930721ce\">\n",
              "      <button class=\"colab-df-quickchart\" onclick=\"quickchart('df-a1ab704d-93b3-4409-93a6-1a38930721ce')\"\n",
              "                title=\"Suggest charts\"\n",
              "                style=\"display:none;\">\n",
              "\n",
              "<svg xmlns=\"http://www.w3.org/2000/svg\" height=\"24px\"viewBox=\"0 0 24 24\"\n",
              "     width=\"24px\">\n",
              "    <g>\n",
              "        <path d=\"M19 3H5c-1.1 0-2 .9-2 2v14c0 1.1.9 2 2 2h14c1.1 0 2-.9 2-2V5c0-1.1-.9-2-2-2zM9 17H7v-7h2v7zm4 0h-2V7h2v10zm4 0h-2v-4h2v4z\"/>\n",
              "    </g>\n",
              "</svg>\n",
              "      </button>\n",
              "\n",
              "<style>\n",
              "  .colab-df-quickchart {\n",
              "      --bg-color: #E8F0FE;\n",
              "      --fill-color: #1967D2;\n",
              "      --hover-bg-color: #E2EBFA;\n",
              "      --hover-fill-color: #174EA6;\n",
              "      --disabled-fill-color: #AAA;\n",
              "      --disabled-bg-color: #DDD;\n",
              "  }\n",
              "\n",
              "  [theme=dark] .colab-df-quickchart {\n",
              "      --bg-color: #3B4455;\n",
              "      --fill-color: #D2E3FC;\n",
              "      --hover-bg-color: #434B5C;\n",
              "      --hover-fill-color: #FFFFFF;\n",
              "      --disabled-bg-color: #3B4455;\n",
              "      --disabled-fill-color: #666;\n",
              "  }\n",
              "\n",
              "  .colab-df-quickchart {\n",
              "    background-color: var(--bg-color);\n",
              "    border: none;\n",
              "    border-radius: 50%;\n",
              "    cursor: pointer;\n",
              "    display: none;\n",
              "    fill: var(--fill-color);\n",
              "    height: 32px;\n",
              "    padding: 0;\n",
              "    width: 32px;\n",
              "  }\n",
              "\n",
              "  .colab-df-quickchart:hover {\n",
              "    background-color: var(--hover-bg-color);\n",
              "    box-shadow: 0 1px 2px rgba(60, 64, 67, 0.3), 0 1px 3px 1px rgba(60, 64, 67, 0.15);\n",
              "    fill: var(--button-hover-fill-color);\n",
              "  }\n",
              "\n",
              "  .colab-df-quickchart-complete:disabled,\n",
              "  .colab-df-quickchart-complete:disabled:hover {\n",
              "    background-color: var(--disabled-bg-color);\n",
              "    fill: var(--disabled-fill-color);\n",
              "    box-shadow: none;\n",
              "  }\n",
              "\n",
              "  .colab-df-spinner {\n",
              "    border: 2px solid var(--fill-color);\n",
              "    border-color: transparent;\n",
              "    border-bottom-color: var(--fill-color);\n",
              "    animation:\n",
              "      spin 1s steps(1) infinite;\n",
              "  }\n",
              "\n",
              "  @keyframes spin {\n",
              "    0% {\n",
              "      border-color: transparent;\n",
              "      border-bottom-color: var(--fill-color);\n",
              "      border-left-color: var(--fill-color);\n",
              "    }\n",
              "    20% {\n",
              "      border-color: transparent;\n",
              "      border-left-color: var(--fill-color);\n",
              "      border-top-color: var(--fill-color);\n",
              "    }\n",
              "    30% {\n",
              "      border-color: transparent;\n",
              "      border-left-color: var(--fill-color);\n",
              "      border-top-color: var(--fill-color);\n",
              "      border-right-color: var(--fill-color);\n",
              "    }\n",
              "    40% {\n",
              "      border-color: transparent;\n",
              "      border-right-color: var(--fill-color);\n",
              "      border-top-color: var(--fill-color);\n",
              "    }\n",
              "    60% {\n",
              "      border-color: transparent;\n",
              "      border-right-color: var(--fill-color);\n",
              "    }\n",
              "    80% {\n",
              "      border-color: transparent;\n",
              "      border-right-color: var(--fill-color);\n",
              "      border-bottom-color: var(--fill-color);\n",
              "    }\n",
              "    90% {\n",
              "      border-color: transparent;\n",
              "      border-bottom-color: var(--fill-color);\n",
              "    }\n",
              "  }\n",
              "</style>\n",
              "\n",
              "      <script>\n",
              "        async function quickchart(key) {\n",
              "          const quickchartButtonEl =\n",
              "            document.querySelector('#' + key + ' button');\n",
              "          quickchartButtonEl.disabled = true;  // To prevent multiple clicks.\n",
              "          quickchartButtonEl.classList.add('colab-df-spinner');\n",
              "          try {\n",
              "            const charts = await google.colab.kernel.invokeFunction(\n",
              "                'suggestCharts', [key], {});\n",
              "          } catch (error) {\n",
              "            console.error('Error during call to suggestCharts:', error);\n",
              "          }\n",
              "          quickchartButtonEl.classList.remove('colab-df-spinner');\n",
              "          quickchartButtonEl.classList.add('colab-df-quickchart-complete');\n",
              "        }\n",
              "        (() => {\n",
              "          let quickchartButtonEl =\n",
              "            document.querySelector('#df-a1ab704d-93b3-4409-93a6-1a38930721ce button');\n",
              "          quickchartButtonEl.style.display =\n",
              "            google.colab.kernel.accessAllowed ? 'block' : 'none';\n",
              "        })();\n",
              "      </script>\n",
              "    </div>\n",
              "\n",
              "    </div>\n",
              "  </div>\n"
            ],
            "application/vnd.google.colaboratory.intrinsic+json": {
              "type": "dataframe",
              "variable_name": "lotr_books",
              "repr_error": "0"
            }
          },
          "metadata": {},
          "execution_count": 6
        }
      ],
      "execution_count": 6
    },
    {
      "metadata": {
        "id": "8e8a2d1ad7949bc0"
      },
      "cell_type": "markdown",
      "source": [
        "Books"
      ],
      "id": "8e8a2d1ad7949bc0"
    },
    {
      "metadata": {
        "id": "248f4539d23c29a"
      },
      "cell_type": "markdown",
      "source": [
        "Get rid of images and nan values"
      ],
      "id": "248f4539d23c29a"
    },
    {
      "metadata": {
        "ExecuteTime": {
          "end_time": "2025-07-06T19:27:42.719836Z",
          "start_time": "2025-07-06T19:27:42.401716Z"
        },
        "colab": {
          "base_uri": "https://localhost:8080/"
        },
        "id": "3f7476c878d988d0",
        "outputId": "8b16afaf-c503-457e-fabb-5c03ba8cae86"
      },
      "cell_type": "code",
      "source": [
        "books.drop(['Image-URL-S', 'Image-URL-L'], axis=1, inplace=True) # leave one image column for later visualization\n",
        "print(books.isna().any(axis=1).sum()) # there only 4 incomplete rows, I'll simply drop them\n",
        "books.dropna(inplace=True)"
      ],
      "id": "3f7476c878d988d0",
      "outputs": [
        {
          "output_type": "stream",
          "name": "stdout",
          "text": [
            "4\n"
          ]
        }
      ],
      "execution_count": 34
    },
    {
      "metadata": {
        "id": "fd3db189e79cd041"
      },
      "cell_type": "markdown",
      "source": [
        "I will deduplicate on (Book-Title', 'Book-Author', 'Year-Of-Publication', 'Publisher') tuples later, as there may be ratings that I would otherwise get rid off if i do deduplication in books table now"
      ],
      "id": "fd3db189e79cd041"
    },
    {
      "metadata": {
        "ExecuteTime": {
          "end_time": "2025-07-06T19:27:42.928435Z",
          "start_time": "2025-07-06T19:27:42.764084Z"
        },
        "colab": {
          "base_uri": "https://localhost:8080/"
        },
        "id": "25838d91bb4e5c88",
        "outputId": "77f854eb-90dc-4ec2-86a9-56aae4747f70"
      },
      "cell_type": "code",
      "source": [
        "num_duplicates = books.duplicated(['Book-Title', 'Book-Author', 'Year-Of-Publication', 'Publisher']).sum()\n",
        "print(f\"Duplicate books {100*num_duplicates/len(books):.2f}%\")"
      ],
      "id": "25838d91bb4e5c88",
      "outputs": [
        {
          "output_type": "stream",
          "name": "stdout",
          "text": [
            "Duplicate books 0.34%\n"
          ]
        }
      ],
      "execution_count": 35
    },
    {
      "metadata": {
        "ExecuteTime": {
          "end_time": "2025-07-06T19:27:43.209168Z",
          "start_time": "2025-07-06T19:27:42.976965Z"
        },
        "colab": {
          "base_uri": "https://localhost:8080/"
        },
        "id": "85ca5fb11015cd13",
        "outputId": "e72d73ee-0652-4b5f-d7b6-a8d07e35d905"
      },
      "cell_type": "code",
      "source": [
        "books['Year-Of-Publication'] = pd.to_numeric(books['Year-Of-Publication'], errors='coerce')\n",
        "print(books['Year-Of-Publication'].isna().sum())\n",
        "books = books.fillna({'Year-Of-Publication': books['Year-Of-Publication'].mean()}) # impute with mean"
      ],
      "id": "85ca5fb11015cd13",
      "outputs": [
        {
          "output_type": "stream",
          "name": "stdout",
          "text": [
            "3\n"
          ]
        }
      ],
      "execution_count": 36
    },
    {
      "metadata": {
        "ExecuteTime": {
          "end_time": "2025-07-06T19:27:43.720588Z",
          "start_time": "2025-07-06T19:27:43.235945Z"
        },
        "id": "9e1c09be876825e5",
        "outputId": "0c2c6ed7-ec06-41b2-f8ab-f89c50a5d437",
        "colab": {
          "base_uri": "https://localhost:8080/",
          "height": 506
        }
      },
      "cell_type": "code",
      "source": [
        "author_count = books['Book-Author'].value_counts().reset_index(name='Count').sort_values('Count', ascending=False).head(10)\n",
        "\n",
        "fig, ax = plt.subplots(1, 1, figsize=(10, 4))\n",
        "ax.bar(author_count['Book-Author'], author_count['Count'], color='salmon')\n",
        "ax.set_xticks(range(len(author_count)))\n",
        "ax.set_xticklabels(author_count['Book-Author'], rotation=45, ha='right')\n",
        "ax.set_title('Top Authors')"
      ],
      "id": "9e1c09be876825e5",
      "outputs": [
        {
          "output_type": "execute_result",
          "data": {
            "text/plain": [
              "Text(0.5, 1.0, 'Top Authors')"
            ]
          },
          "metadata": {},
          "execution_count": 37
        },
        {
          "output_type": "display_data",
          "data": {
            "text/plain": [
              "<Figure size 1000x400 with 1 Axes>"
            ],
            "image/png": "[encoded data removed]"
          },
          "metadata": {}
        }
      ],
      "execution_count": 37
    },
    {
      "metadata": {
        "id": "c5ad74894cac72a5"
      },
      "cell_type": "markdown",
      "source": [
        "Users"
      ],
      "id": "c5ad74894cac72a5"
    },
    {
      "cell_type": "code",
      "source": [
        "users['Location'].nunique()"
      ],
      "metadata": {
        "id": "MhtaO9BCm5at",
        "outputId": "88c1018d-f975-4b06-f1f7-26561f1127f5",
        "colab": {
          "base_uri": "https://localhost:8080/"
        }
      },
      "id": "MhtaO9BCm5at",
      "execution_count": 10,
      "outputs": [
        {
          "output_type": "execute_result",
          "data": {
            "text/plain": [
              "57339"
            ]
          },
          "metadata": {},
          "execution_count": 10
        }
      ]
    },
    {
      "metadata": {
        "ExecuteTime": {
          "end_time": "2025-07-06T19:27:43.984609Z",
          "start_time": "2025-07-06T19:27:43.752254Z"
        },
        "colab": {
          "base_uri": "https://localhost:8080/"
        },
        "id": "7bd0466ee2c8377",
        "outputId": "8413ffe7-0fa8-426b-c115-031fa1e741a5"
      },
      "cell_type": "code",
      "source": [
        "users['Location'] = users['Location'].apply(lambda x: x.split(',')[-1].lower().strip()) # replace (city, region, country) with just the country\n",
        "users['Location'] = users['Location'].str.replace(r'[!./@\"]', '', regex=True)\n",
        "users['Location'].nunique()"
      ],
      "id": "7bd0466ee2c8377",
      "outputs": [
        {
          "output_type": "execute_result",
          "data": {
            "text/plain": [
              "617"
            ]
          },
          "metadata": {},
          "execution_count": 19
        }
      ],
      "execution_count": 19
    },
    {
      "cell_type": "code",
      "source": [
        "pd.Series(users['Location'].unique()).loc[lambda s: s.str.contains('spa', case=False, na=False)]"
      ],
      "metadata": {
        "id": "j6O-YcQuif5O",
        "outputId": "3c035414-f751-47c8-e664-92f539b07351",
        "colab": {
          "base_uri": "https://localhost:8080/",
          "height": 366
        }
      },
      "id": "j6O-YcQuif5O",
      "execution_count": 23,
      "outputs": [
        {
          "output_type": "execute_result",
          "data": {
            "text/plain": [
              "5                  spain\n",
              "43                españa\n",
              "61     somewherein space\n",
              "130                space\n",
              "152           queenspark\n",
              "248      catalunya spain\n",
              "281            espaã?â±a\n",
              "310              espaã±a\n",
              "487      espanha  galiza\n",
              "dtype: object"
            ],
            "text/html": [
              "<div>\n",
              "<style scoped>\n",
              "    .dataframe tbody tr th:only-of-type {\n",
              "        vertical-align: middle;\n",
              "    }\n",
              "\n",
              "    .dataframe tbody tr th {\n",
              "        vertical-align: top;\n",
              "    }\n",
              "\n",
              "    .dataframe thead th {\n",
              "        text-align: right;\n",
              "    }\n",
              "</style>\n",
              "<table border=\"1\" class=\"dataframe\">\n",
              "  <thead>\n",
              "    <tr style=\"text-align: right;\">\n",
              "      <th></th>\n",
              "      <th>0</th>\n",
              "    </tr>\n",
              "  </thead>\n",
              "  <tbody>\n",
              "    <tr>\n",
              "      <th>5</th>\n",
              "      <td>spain</td>\n",
              "    </tr>\n",
              "    <tr>\n",
              "      <th>43</th>\n",
              "      <td>españa</td>\n",
              "    </tr>\n",
              "    <tr>\n",
              "      <th>61</th>\n",
              "      <td>somewherein space</td>\n",
              "    </tr>\n",
              "    <tr>\n",
              "      <th>130</th>\n",
              "      <td>space</td>\n",
              "    </tr>\n",
              "    <tr>\n",
              "      <th>152</th>\n",
              "      <td>queenspark</td>\n",
              "    </tr>\n",
              "    <tr>\n",
              "      <th>248</th>\n",
              "      <td>catalunya spain</td>\n",
              "    </tr>\n",
              "    <tr>\n",
              "      <th>281</th>\n",
              "      <td>espaã?â±a</td>\n",
              "    </tr>\n",
              "    <tr>\n",
              "      <th>310</th>\n",
              "      <td>espaã±a</td>\n",
              "    </tr>\n",
              "    <tr>\n",
              "      <th>487</th>\n",
              "      <td>espanha  galiza</td>\n",
              "    </tr>\n",
              "  </tbody>\n",
              "</table>\n",
              "</div><br><label><b>dtype:</b> object</label>"
            ]
          },
          "metadata": {},
          "execution_count": 23
        }
      ]
    },
    {
      "cell_type": "markdown",
      "source": [
        "Locations are still pretty dirty. There are around 200 recognized countries in the world and the data we have tells us that there are 617. There are many invalid places like \"somewhere in space\" or country names not written in english, that have a typo, written in incorrect format and so on..."
      ],
      "metadata": {
        "id": "DJS4CtQqp4mj"
      },
      "id": "DJS4CtQqp4mj"
    },
    {
      "metadata": {
        "ExecuteTime": {
          "end_time": "2025-07-06T19:27:44.028454Z",
          "start_time": "2025-07-06T19:27:44.007137Z"
        },
        "id": "9dfe6bc618dd8bd2",
        "outputId": "2904b1cd-1ae5-4125-d81e-74431a8c7fed",
        "colab": {
          "base_uri": "https://localhost:8080/",
          "height": 178
        }
      },
      "cell_type": "code",
      "source": [
        "users.isna().sum()"
      ],
      "id": "9dfe6bc618dd8bd2",
      "outputs": [
        {
          "output_type": "execute_result",
          "data": {
            "text/plain": [
              "User-ID          0\n",
              "Location         0\n",
              "Age         110762\n",
              "dtype: int64"
            ],
            "text/html": [
              "<div>\n",
              "<style scoped>\n",
              "    .dataframe tbody tr th:only-of-type {\n",
              "        vertical-align: middle;\n",
              "    }\n",
              "\n",
              "    .dataframe tbody tr th {\n",
              "        vertical-align: top;\n",
              "    }\n",
              "\n",
              "    .dataframe thead th {\n",
              "        text-align: right;\n",
              "    }\n",
              "</style>\n",
              "<table border=\"1\" class=\"dataframe\">\n",
              "  <thead>\n",
              "    <tr style=\"text-align: right;\">\n",
              "      <th></th>\n",
              "      <th>0</th>\n",
              "    </tr>\n",
              "  </thead>\n",
              "  <tbody>\n",
              "    <tr>\n",
              "      <th>User-ID</th>\n",
              "      <td>0</td>\n",
              "    </tr>\n",
              "    <tr>\n",
              "      <th>Location</th>\n",
              "      <td>0</td>\n",
              "    </tr>\n",
              "    <tr>\n",
              "      <th>Age</th>\n",
              "      <td>110762</td>\n",
              "    </tr>\n",
              "  </tbody>\n",
              "</table>\n",
              "</div><br><label><b>dtype:</b> int64</label>"
            ]
          },
          "metadata": {},
          "execution_count": 24
        }
      ],
      "execution_count": 24
    },
    {
      "metadata": {
        "ExecuteTime": {
          "end_time": "2025-07-06T19:27:44.115080Z",
          "start_time": "2025-07-06T19:27:44.103936Z"
        },
        "colab": {
          "base_uri": "https://localhost:8080/"
        },
        "id": "16ba59bc200c837d",
        "outputId": "39e18544-82ad-4394-903d-660b0ce68cac"
      },
      "cell_type": "code",
      "source": [
        "print(f\"Missing ages {100*users['Age'].isna().sum() / len(users['Age']):.2f}%\")"
      ],
      "id": "16ba59bc200c837d",
      "outputs": [
        {
          "output_type": "stream",
          "name": "stdout",
          "text": [
            "Missing ages 39.72%\n"
          ]
        }
      ],
      "execution_count": 28
    },
    {
      "metadata": {
        "ExecuteTime": {
          "end_time": "2025-07-06T19:27:44.356140Z",
          "start_time": "2025-07-06T19:27:44.265650Z"
        },
        "id": "58baf92ff50d27cd"
      },
      "cell_type": "code",
      "source": [
        "users.fillna({'Age': 0}, inplace=True)\n",
        "users.loc[users['Age'] <= 3, 'Age'] = 0\n",
        "mean = users['Age'][users['Age'] <= 3].mean()\n",
        "users['Age'] = users['Age'].replace(0, mean) # impute by mean"
      ],
      "id": "58baf92ff50d27cd",
      "outputs": [],
      "execution_count": 38
    },
    {
      "metadata": {
        "id": "89c9c10ff0c61630"
      },
      "cell_type": "markdown",
      "source": [
        "Ratings"
      ],
      "id": "89c9c10ff0c61630"
    },
    {
      "metadata": {
        "ExecuteTime": {
          "end_time": "2025-07-06T19:27:44.585236Z",
          "start_time": "2025-07-06T19:27:44.565138Z"
        },
        "id": "c7c8ffaa707b6649"
      },
      "cell_type": "code",
      "source": [
        "ratings.head()"
      ],
      "id": "c7c8ffaa707b6649",
      "outputs": [],
      "execution_count": null
    },
    {
      "metadata": {
        "ExecuteTime": {
          "end_time": "2025-07-06T19:27:45.035299Z",
          "start_time": "2025-07-06T19:27:44.689398Z"
        },
        "id": "e2b70d436fbef0db"
      },
      "cell_type": "code",
      "source": [
        "plt.hist(ratings['Book-Rating'], color='salmon', bins=range(1, 12), edgecolor='black', align='left')\n",
        "plt.xlabel('Rating')\n",
        "plt.ylabel('Count')\n",
        "plt.title('Distribution of explicit book ratings')\n",
        "plt.xticks(range(1, 11))\n",
        "plt.show()"
      ],
      "id": "e2b70d436fbef0db",
      "outputs": [],
      "execution_count": null
    },
    {
      "metadata": {
        "id": "d072a99afb6c8147"
      },
      "cell_type": "markdown",
      "source": [
        "We have explicit and implicit feedback..."
      ],
      "id": "d072a99afb6c8147"
    },
    {
      "metadata": {
        "ExecuteTime": {
          "end_time": "2025-07-06T19:27:45.789975Z",
          "start_time": "2025-07-06T19:27:45.063463Z"
        },
        "colab": {
          "base_uri": "https://localhost:8080/"
        },
        "id": "b805927ceee25251",
        "outputId": "bdc6ecd2-29ed-49b7-b742-825c6b2be19e"
      },
      "cell_type": "code",
      "source": [
        "ratings_explicit = ratings[ratings['Book-Rating'] != 0] # choose only explicit ratings for now\n",
        "\n",
        "book_ratings = ratings_explicit.merge(books.drop('Image-URL-M', axis=1), on='ISBN')\n",
        "implicit = 1 - len(book_ratings) / len(ratings)\n",
        "print(f\"Implicit ratings percentage: {implicit:.2%}\")"
      ],
      "id": "b805927ceee25251",
      "outputs": [
        {
          "output_type": "stream",
          "name": "stdout",
          "text": [
            "Implicit ratings percentage: 66.62%\n"
          ]
        }
      ],
      "execution_count": 44
    },
    {
      "metadata": {
        "id": "9a02bf35f62647e0"
      },
      "cell_type": "markdown",
      "source": [
        "Get the user-book rating matrix"
      ],
      "id": "9a02bf35f62647e0"
    },
    {
      "metadata": {
        "ExecuteTime": {
          "end_time": "2025-07-06T19:27:46.106273Z",
          "start_time": "2025-07-06T19:27:45.907902Z"
        },
        "colab": {
          "base_uri": "https://localhost:8080/",
          "height": 206
        },
        "id": "69da136ca840f8d1",
        "outputId": "895291ab-ab28-4001-b9c2-bcd1cebb3cf8"
      },
      "cell_type": "code",
      "source": [
        "complete_df = book_ratings.merge(users, on=\"User-ID\") # create a triplet dataframe of users;rankings;books dataframes\n",
        "complete_df.head()"
      ],
      "id": "69da136ca840f8d1",
      "outputs": [
        {
          "output_type": "execute_result",
          "data": {
            "text/plain": [
              "   User-ID        ISBN  Book-Rating  \\\n",
              "0   276726  0155061224            5   \n",
              "1   276729  052165615X            3   \n",
              "2   276729  0521795028            6   \n",
              "3   276744  038550120X            7   \n",
              "4   276747  0060517794            9   \n",
              "\n",
              "                                          Book-Title    Book-Author  \\\n",
              "0                                   Rites of Passage     Judith Rae   \n",
              "1                                     Help!: Level 1  Philip Prowse   \n",
              "2  The Amsterdam Connection : Level 4 (Cambridge ...    Sue Leather   \n",
              "3                                    A Painted House   JOHN GRISHAM   \n",
              "4                           Little Altars Everywhere  Rebecca Wells   \n",
              "\n",
              "   Year-Of-Publication                   Publisher Location   Age  \n",
              "0               2001.0                      Heinle      usa   0.0  \n",
              "1               1999.0  Cambridge University Press  croatia  16.0  \n",
              "2               2001.0  Cambridge University Press  croatia  16.0  \n",
              "3               2001.0                   Doubleday      usa   0.0  \n",
              "4               2003.0                 HarperTorch      usa  25.0  "
            ],
            "text/html": [
              "\n",
              "  <div id=\"df-225d3696-4fd0-47e0-8017-75e622b99fbe\" class=\"colab-df-container\">\n",
              "    <div>\n",
              "<style scoped>\n",
              "    .dataframe tbody tr th:only-of-type {\n",
              "        vertical-align: middle;\n",
              "    }\n",
              "\n",
              "    .dataframe tbody tr th {\n",
              "        vertical-align: top;\n",
              "    }\n",
              "\n",
              "    .dataframe thead th {\n",
              "        text-align: right;\n",
              "    }\n",
              "</style>\n",
              "<table border=\"1\" class=\"dataframe\">\n",
              "  <thead>\n",
              "    <tr style=\"text-align: right;\">\n",
              "      <th></th>\n",
              "      <th>User-ID</th>\n",
              "      <th>ISBN</th>\n",
              "      <th>Book-Rating</th>\n",
              "      <th>Book-Title</th>\n",
              "      <th>Book-Author</th>\n",
              "      <th>Year-Of-Publication</th>\n",
              "      <th>Publisher</th>\n",
              "      <th>Location</th>\n",
              "      <th>Age</th>\n",
              "    </tr>\n",
              "  </thead>\n",
              "  <tbody>\n",
              "    <tr>\n",
              "      <th>0</th>\n",
              "      <td>276726</td>\n",
              "      <td>0155061224</td>\n",
              "      <td>5</td>\n",
              "      <td>Rites of Passage</td>\n",
              "      <td>Judith Rae</td>\n",
              "      <td>2001.0</td>\n",
              "      <td>Heinle</td>\n",
              "      <td>usa</td>\n",
              "      <td>0.0</td>\n",
              "    </tr>\n",
              "    <tr>\n",
              "      <th>1</th>\n",
              "      <td>276729</td>\n",
              "      <td>052165615X</td>\n",
              "      <td>3</td>\n",
              "      <td>Help!: Level 1</td>\n",
              "      <td>Philip Prowse</td>\n",
              "      <td>1999.0</td>\n",
              "      <td>Cambridge University Press</td>\n",
              "      <td>croatia</td>\n",
              "      <td>16.0</td>\n",
              "    </tr>\n",
              "    <tr>\n",
              "      <th>2</th>\n",
              "      <td>276729</td>\n",
              "      <td>0521795028</td>\n",
              "      <td>6</td>\n",
              "      <td>The Amsterdam Connection : Level 4 (Cambridge ...</td>\n",
              "      <td>Sue Leather</td>\n",
              "      <td>2001.0</td>\n",
              "      <td>Cambridge University Press</td>\n",
              "      <td>croatia</td>\n",
              "      <td>16.0</td>\n",
              "    </tr>\n",
              "    <tr>\n",
              "      <th>3</th>\n",
              "      <td>276744</td>\n",
              "      <td>038550120X</td>\n",
              "      <td>7</td>\n",
              "      <td>A Painted House</td>\n",
              "      <td>JOHN GRISHAM</td>\n",
              "      <td>2001.0</td>\n",
              "      <td>Doubleday</td>\n",
              "      <td>usa</td>\n",
              "      <td>0.0</td>\n",
              "    </tr>\n",
              "    <tr>\n",
              "      <th>4</th>\n",
              "      <td>276747</td>\n",
              "      <td>0060517794</td>\n",
              "      <td>9</td>\n",
              "      <td>Little Altars Everywhere</td>\n",
              "      <td>Rebecca Wells</td>\n",
              "      <td>2003.0</td>\n",
              "      <td>HarperTorch</td>\n",
              "      <td>usa</td>\n",
              "      <td>25.0</td>\n",
              "    </tr>\n",
              "  </tbody>\n",
              "</table>\n",
              "</div>\n",
              "    <div class=\"colab-df-buttons\">\n",
              "\n",
              "  <div class=\"colab-df-container\">\n",
              "    <button class=\"colab-df-convert\" onclick=\"convertToInteractive('df-225d3696-4fd0-47e0-8017-75e622b99fbe')\"\n",
              "            title=\"Convert this dataframe to an interactive table.\"\n",
              "            style=\"display:none;\">\n",
              "\n",
              "  <svg xmlns=\"http://www.w3.org/2000/svg\" height=\"24px\" viewBox=\"0 -960 960 960\">\n",
              "    <path d=\"M120-120v-720h720v720H120Zm60-500h600v-160H180v160Zm220 220h160v-160H400v160Zm0 220h160v-160H400v160ZM180-400h160v-160H180v160Zm440 0h160v-160H620v160ZM180-180h160v-160H180v160Zm440 0h160v-160H620v160Z\"/>\n",
              "  </svg>\n",
              "    </button>\n",
              "\n",
              "  <style>\n",
              "    .colab-df-container {\n",
              "      display:flex;\n",
              "      gap: 12px;\n",
              "    }\n",
              "\n",
              "    .colab-df-convert {\n",
              "      background-color: #E8F0FE;\n",
              "      border: none;\n",
              "      border-radius: 50%;\n",
              "      cursor: pointer;\n",
              "      display: none;\n",
              "      fill: #1967D2;\n",
              "      height: 32px;\n",
              "      padding: 0 0 0 0;\n",
              "      width: 32px;\n",
              "    }\n",
              "\n",
              "    .colab-df-convert:hover {\n",
              "      background-color: #E2EBFA;\n",
              "      box-shadow: 0px 1px 2px rgba(60, 64, 67, 0.3), 0px 1px 3px 1px rgba(60, 64, 67, 0.15);\n",
              "      fill: #174EA6;\n",
              "    }\n",
              "\n",
              "    .colab-df-buttons div {\n",
              "      margin-bottom: 4px;\n",
              "    }\n",
              "\n",
              "    [theme=dark] .colab-df-convert {\n",
              "      background-color: #3B4455;\n",
              "      fill: #D2E3FC;\n",
              "    }\n",
              "\n",
              "    [theme=dark] .colab-df-convert:hover {\n",
              "      background-color: #434B5C;\n",
              "      box-shadow: 0px 1px 3px 1px rgba(0, 0, 0, 0.15);\n",
              "      filter: drop-shadow(0px 1px 2px rgba(0, 0, 0, 0.3));\n",
              "      fill: #FFFFFF;\n",
              "    }\n",
              "  </style>\n",
              "\n",
              "    <script>\n",
              "      const buttonEl =\n",
              "        document.querySelector('#df-225d3696-4fd0-47e0-8017-75e622b99fbe button.colab-df-convert');\n",
              "      buttonEl.style.display =\n",
              "        google.colab.kernel.accessAllowed ? 'block' : 'none';\n",
              "\n",
              "      async function convertToInteractive(key) {\n",
              "        const element = document.querySelector('#df-225d3696-4fd0-47e0-8017-75e622b99fbe');\n",
              "        const dataTable =\n",
              "          await google.colab.kernel.invokeFunction('convertToInteractive',\n",
              "                                                    [key], {});\n",
              "        if (!dataTable) return;\n",
              "\n",
              "        const docLinkHtml = 'Like what you see? Visit the ' +\n",
              "          '<a target=\"_blank\" href=https://colab.research.google.com/notebooks/data_table.ipynb>data table notebook</a>'\n",
              "          + ' to learn more about interactive tables.';\n",
              "        element.innerHTML = '';\n",
              "        dataTable['output_type'] = 'display_data';\n",
              "        await google.colab.output.renderOutput(dataTable, element);\n",
              "        const docLink = document.createElement('div');\n",
              "        docLink.innerHTML = docLinkHtml;\n",
              "        element.appendChild(docLink);\n",
              "      }\n",
              "    </script>\n",
              "  </div>\n",
              "\n",
              "\n",
              "    <div id=\"df-ea351a1d-576d-4541-8569-939942f550b3\">\n",
              "      <button class=\"colab-df-quickchart\" onclick=\"quickchart('df-ea351a1d-576d-4541-8569-939942f550b3')\"\n",
              "                title=\"Suggest charts\"\n",
              "                style=\"display:none;\">\n",
              "\n",
              "<svg xmlns=\"http://www.w3.org/2000/svg\" height=\"24px\"viewBox=\"0 0 24 24\"\n",
              "     width=\"24px\">\n",
              "    <g>\n",
              "        <path d=\"M19 3H5c-1.1 0-2 .9-2 2v14c0 1.1.9 2 2 2h14c1.1 0 2-.9 2-2V5c0-1.1-.9-2-2-2zM9 17H7v-7h2v7zm4 0h-2V7h2v10zm4 0h-2v-4h2v4z\"/>\n",
              "    </g>\n",
              "</svg>\n",
              "      </button>\n",
              "\n",
              "<style>\n",
              "  .colab-df-quickchart {\n",
              "      --bg-color: #E8F0FE;\n",
              "      --fill-color: #1967D2;\n",
              "      --hover-bg-color: #E2EBFA;\n",
              "      --hover-fill-color: #174EA6;\n",
              "      --disabled-fill-color: #AAA;\n",
              "      --disabled-bg-color: #DDD;\n",
              "  }\n",
              "\n",
              "  [theme=dark] .colab-df-quickchart {\n",
              "      --bg-color: #3B4455;\n",
              "      --fill-color: #D2E3FC;\n",
              "      --hover-bg-color: #434B5C;\n",
              "      --hover-fill-color: #FFFFFF;\n",
              "      --disabled-bg-color: #3B4455;\n",
              "      --disabled-fill-color: #666;\n",
              "  }\n",
              "\n",
              "  .colab-df-quickchart {\n",
              "    background-color: var(--bg-color);\n",
              "    border: none;\n",
              "    border-radius: 50%;\n",
              "    cursor: pointer;\n",
              "    display: none;\n",
              "    fill: var(--fill-color);\n",
              "    height: 32px;\n",
              "    padding: 0;\n",
              "    width: 32px;\n",
              "  }\n",
              "\n",
              "  .colab-df-quickchart:hover {\n",
              "    background-color: var(--hover-bg-color);\n",
              "    box-shadow: 0 1px 2px rgba(60, 64, 67, 0.3), 0 1px 3px 1px rgba(60, 64, 67, 0.15);\n",
              "    fill: var(--button-hover-fill-color);\n",
              "  }\n",
              "\n",
              "  .colab-df-quickchart-complete:disabled,\n",
              "  .colab-df-quickchart-complete:disabled:hover {\n",
              "    background-color: var(--disabled-bg-color);\n",
              "    fill: var(--disabled-fill-color);\n",
              "    box-shadow: none;\n",
              "  }\n",
              "\n",
              "  .colab-df-spinner {\n",
              "    border: 2px solid var(--fill-color);\n",
              "    border-color: transparent;\n",
              "    border-bottom-color: var(--fill-color);\n",
              "    animation:\n",
              "      spin 1s steps(1) infinite;\n",
              "  }\n",
              "\n",
              "  @keyframes spin {\n",
              "    0% {\n",
              "      border-color: transparent;\n",
              "      border-bottom-color: var(--fill-color);\n",
              "      border-left-color: var(--fill-color);\n",
              "    }\n",
              "    20% {\n",
              "      border-color: transparent;\n",
              "      border-left-color: var(--fill-color);\n",
              "      border-top-color: var(--fill-color);\n",
              "    }\n",
              "    30% {\n",
              "      border-color: transparent;\n",
              "      border-left-color: var(--fill-color);\n",
              "      border-top-color: var(--fill-color);\n",
              "      border-right-color: var(--fill-color);\n",
              "    }\n",
              "    40% {\n",
              "      border-color: transparent;\n",
              "      border-right-color: var(--fill-color);\n",
              "      border-top-color: var(--fill-color);\n",
              "    }\n",
              "    60% {\n",
              "      border-color: transparent;\n",
              "      border-right-color: var(--fill-color);\n",
              "    }\n",
              "    80% {\n",
              "      border-color: transparent;\n",
              "      border-right-color: var(--fill-color);\n",
              "      border-bottom-color: var(--fill-color);\n",
              "    }\n",
              "    90% {\n",
              "      border-color: transparent;\n",
              "      border-bottom-color: var(--fill-color);\n",
              "    }\n",
              "  }\n",
              "</style>\n",
              "\n",
              "      <script>\n",
              "        async function quickchart(key) {\n",
              "          const quickchartButtonEl =\n",
              "            document.querySelector('#' + key + ' button');\n",
              "          quickchartButtonEl.disabled = true;  // To prevent multiple clicks.\n",
              "          quickchartButtonEl.classList.add('colab-df-spinner');\n",
              "          try {\n",
              "            const charts = await google.colab.kernel.invokeFunction(\n",
              "                'suggestCharts', [key], {});\n",
              "          } catch (error) {\n",
              "            console.error('Error during call to suggestCharts:', error);\n",
              "          }\n",
              "          quickchartButtonEl.classList.remove('colab-df-spinner');\n",
              "          quickchartButtonEl.classList.add('colab-df-quickchart-complete');\n",
              "        }\n",
              "        (() => {\n",
              "          let quickchartButtonEl =\n",
              "            document.querySelector('#df-ea351a1d-576d-4541-8569-939942f550b3 button');\n",
              "          quickchartButtonEl.style.display =\n",
              "            google.colab.kernel.accessAllowed ? 'block' : 'none';\n",
              "        })();\n",
              "      </script>\n",
              "    </div>\n",
              "\n",
              "    </div>\n",
              "  </div>\n"
            ],
            "application/vnd.google.colaboratory.intrinsic+json": {
              "type": "dataframe",
              "variable_name": "complete_df"
            }
          },
          "metadata": {},
          "execution_count": 57
        }
      ],
      "execution_count": 57
    },
    {
      "cell_type": "markdown",
      "source": [
        "Now that we have the metadata combined with ratings, we can deduplicate and clean up the data some more"
      ],
      "metadata": {
        "id": "YLZuFQPqrz9_"
      },
      "id": "YLZuFQPqrz9_"
    },
    {
      "cell_type": "code",
      "source": [
        "complete_df['Book-Title'] = complete_df['Book-Title'].str.lower()\n",
        "complete_df['Book-Author'] = complete_df['Book-Author'].str.lower()"
      ],
      "metadata": {
        "id": "PQh5EeK2sDk4"
      },
      "id": "PQh5EeK2sDk4",
      "execution_count": 60,
      "outputs": []
    },
    {
      "cell_type": "code",
      "source": [
        "complete_df.duplicated({'Book-Title', 'Book-Author', 'User-ID'}).sum() / len(complete_df)"
      ],
      "metadata": {
        "id": "Dvj-7goouP65",
        "outputId": "407e0ba8-7b91-4c8b-e467-b79cd3d5559e",
        "colab": {
          "base_uri": "https://localhost:8080/"
        }
      },
      "id": "Dvj-7goouP65",
      "execution_count": 61,
      "outputs": [
        {
          "output_type": "execute_result",
          "data": {
            "text/plain": [
              "np.float64(0.002376002376002376)"
            ]
          },
          "metadata": {},
          "execution_count": 61
        }
      ]
    },
    {
      "cell_type": "code",
      "source": [],
      "metadata": {
        "id": "xHEZSSmhz_To"
      },
      "id": "xHEZSSmhz_To",
      "execution_count": null,
      "outputs": []
    },
    {
      "metadata": {
        "id": "741bd7098965dc4e"
      },
      "cell_type": "markdown",
      "source": [
        "Calculate the sparsity of our user-book ratings"
      ],
      "id": "741bd7098965dc4e"
    },
    {
      "metadata": {
        "ExecuteTime": {
          "end_time": "2025-07-06T19:27:46.143900Z",
          "start_time": "2025-07-06T19:27:46.129123Z"
        },
        "id": "15f1c3335fd785ac"
      },
      "cell_type": "code",
      "source": [
        "def compute_sparsity(ratings_df):\n",
        "    n_users = ratings_df['User-ID'].nunique()\n",
        "    n_books = ratings_df['ISBN'].nunique()\n",
        "    print(f\"Number of users: {n_users}\")\n",
        "    print(f\"Number of books: {n_books}\")\n",
        "\n",
        "    total_possible = n_users * n_books\n",
        "    actual_ratings = len(ratings_df)\n",
        "    print(f\"Actual ratings: {actual_ratings}\")\n",
        "    print(f\"Total possible ratings: {total_possible}\")\n",
        "\n",
        "    sparsity = 1 - (actual_ratings / total_possible)\n",
        "    print(f\"Sparsity of the user-book ratings: {sparsity:.7f}\")\n",
        "\n",
        "    return sparsity"
      ],
      "id": "15f1c3335fd785ac",
      "outputs": [],
      "execution_count": null
    },
    {
      "metadata": {
        "ExecuteTime": {
          "end_time": "2025-07-06T19:27:46.415850Z",
          "start_time": "2025-07-06T19:27:46.267064Z"
        },
        "id": "1d7a266aeb0fd987"
      },
      "cell_type": "code",
      "source": [
        "sparsity = compute_sparsity(complete_df)"
      ],
      "id": "1d7a266aeb0fd987",
      "outputs": [],
      "execution_count": null
    },
    {
      "metadata": {
        "id": "537a27026a235667"
      },
      "cell_type": "markdown",
      "source": [
        "Our data is very sparse. To try and mitgate this, we can filter out less popular books and inexperienced users"
      ],
      "id": "537a27026a235667"
    },
    {
      "metadata": {
        "ExecuteTime": {
          "end_time": "2025-07-06T19:28:55.273778Z",
          "start_time": "2025-07-06T19:28:54.947491Z"
        },
        "id": "cc7114ee5885a70d"
      },
      "cell_type": "code",
      "source": [
        "mask_users = complete_df.groupby('User-ID')['Book-Rating'] \\\n",
        "                        .transform('size') >= 1\n",
        "mask_books = complete_df.groupby('ISBN')['Book-Rating'] \\\n",
        "                         .transform('size') >= 10\n",
        "\n",
        "filtered_df = complete_df[mask_users & mask_books]"
      ],
      "id": "cc7114ee5885a70d",
      "outputs": [],
      "execution_count": null
    },
    {
      "metadata": {
        "ExecuteTime": {
          "end_time": "2025-07-06T19:28:57.505297Z",
          "start_time": "2025-07-06T19:28:57.481615Z"
        },
        "id": "1280b5bd1ff05eaf"
      },
      "cell_type": "code",
      "source": [
        "sparsity = compute_sparsity(filtered_df)"
      ],
      "id": "1280b5bd1ff05eaf",
      "outputs": [],
      "execution_count": null
    },
    {
      "metadata": {
        "id": "fd4c5f7c5c12c09c"
      },
      "cell_type": "markdown",
      "source": [
        "I will train a classical SVD model and use the learned book vectors in latent space to do item to item similarity."
      ],
      "id": "fd4c5f7c5c12c09c"
    },
    {
      "metadata": {
        "id": "4461c25845987b87"
      },
      "cell_type": "markdown",
      "source": [
        "If a root mean square error is around 1.5 on average. We can safely say that the average rating prediction of our model is off by no more than 1.5, since rmse is greater or equal to the mean absolute error"
      ],
      "id": "4461c25845987b87"
    },
    {
      "metadata": {
        "ExecuteTime": {
          "end_time": "2025-07-06T18:51:41.873276Z",
          "start_time": "2025-07-06T18:51:35.456854Z"
        },
        "id": "c77bbe2f7594fd5f"
      },
      "cell_type": "code",
      "source": [
        "from surprise import SVD, Dataset, Reader\n",
        "from surprise.model_selection import KFold\n",
        "from surprise import accuracy\n",
        "\n",
        "data_df = filtered_df[['User-ID', 'ISBN', 'Book-Rating']].copy()\n",
        "\n",
        "# create the model from surprise library and perform 5-fold cross-validation\n",
        "min_c, max_c = data_df['Book-Rating'].min(), data_df['Book-Rating'].max()\n",
        "reader = Reader(rating_scale=(min_c, max_c))\n",
        "data = Dataset.load_from_df(data_df, reader)\n",
        "model = SVD(n_factors=50)\n",
        "\n",
        "rmse_test, rmse_train = [], []\n",
        "kf = KFold(n_splits=5, random_state=42, shuffle=True)\n",
        "\n",
        "for fold, (train, test) in enumerate(kf.split(data)):\n",
        "    model.fit(train)\n",
        "\n",
        "    preds = model.test(test)\n",
        "    rmse_curr = accuracy.rmse(preds)\n",
        "    rmse_test.append(rmse_curr)\n",
        "\n",
        "    train_testset = train.build_testset()\n",
        "    preds = model.test(train_testset)\n",
        "    rmse_curr = accuracy.rmse(preds, verbose=False)\n",
        "    rmse_train.append(rmse_curr)\n",
        "\n",
        "print(f\"Mean test set RMSE: {np.mean(rmse_test):.4f}\")\n",
        "print(f\"Mean train set RMSE: {np.mean(rmse_train):.4f}\")"
      ],
      "id": "c77bbe2f7594fd5f",
      "outputs": [],
      "execution_count": null
    },
    {
      "metadata": {
        "ExecuteTime": {
          "end_time": "2025-07-06T18:51:42.087429Z",
          "start_time": "2025-07-06T18:51:41.917056Z"
        },
        "id": "e259589eb0c92699"
      },
      "cell_type": "code",
      "source": [
        "import numpy as np\n",
        "\n",
        "isbn2title = {\n",
        "    isbn: title.strip().lower()\n",
        "    for isbn, title in zip(books['ISBN'], books['Book-Title'])\n",
        "}\n",
        "\n",
        "inner2title = {}\n",
        "for inner_id in range(train.n_items):\n",
        "    try:\n",
        "        raw_id = train.to_raw_iid(inner_id)\n",
        "        inner2title[inner_id] = isbn2title.get(raw_id, \"\").lower()\n",
        "    except ValueError:\n",
        "        continue\n",
        "\n",
        "title2inner = {\n",
        "    title: iid\n",
        "    for iid, title in inner2title.items()\n",
        "    if title\n",
        "}\n",
        "\n",
        "def book2book_retrieval(book_title, model, title2inner, inner2title, top_n=10):\n",
        "    key = book_title.lower()\n",
        "    if key not in title2inner:\n",
        "        # find a partial match\n",
        "        for inner_id, title in inner2title.items():\n",
        "            if book_title.lower() in title:\n",
        "                key = title\n",
        "                break\n",
        "        else:\n",
        "            print(f\"No match found for '{book_title}'\")\n",
        "            return []\n",
        "        print(f\"No exact match for '{book_title}' found. Showing results for '{key}' instead.\")\n",
        "\n",
        "    inner_id = title2inner[key]\n",
        "\n",
        "    # cosine sim\n",
        "    q = model.qi[inner_id]\n",
        "    q_norm = q / np.linalg.norm(q)\n",
        "    db_norm = model.qi / np.linalg.norm(model.qi, axis=1, keepdims=True)\n",
        "    sims = db_norm.dot(q_norm)\n",
        "\n",
        "    recs = [\n",
        "        (inner2title[iid], round(score, 3))\n",
        "        for iid, score in enumerate(sims)\n",
        "        if iid != inner_id\n",
        "    ]\n",
        "    recs.sort(key=lambda x: x[1], reverse=True)\n",
        "    return recs[:top_n]"
      ],
      "id": "e259589eb0c92699",
      "outputs": [],
      "execution_count": null
    },
    {
      "metadata": {
        "ExecuteTime": {
          "end_time": "2025-07-06T18:51:42.258505Z",
          "start_time": "2025-07-06T18:51:42.254908Z"
        },
        "id": "499170665d1ad126"
      },
      "cell_type": "code",
      "source": [
        "book_of_interest = 'the lord of the rings'\n",
        "print(title2inner[book_of_interest])"
      ],
      "id": "499170665d1ad126",
      "outputs": [],
      "execution_count": null
    },
    {
      "metadata": {
        "ExecuteTime": {
          "end_time": "2025-07-06T18:51:42.584299Z",
          "start_time": "2025-07-06T18:51:42.484399Z"
        },
        "id": "b6690337dda6a14c"
      },
      "cell_type": "code",
      "source": [
        "book2book_retrieval(book_of_interest, model, title2inner, inner2title, top_n=10)"
      ],
      "id": "b6690337dda6a14c",
      "outputs": [],
      "execution_count": null
    },
    {
      "metadata": {
        "jupyter": {
          "is_executing": true
        },
        "ExecuteTime": {
          "start_time": "2025-07-06T19:29:14.385571Z"
        },
        "id": "ddda817dcb27c18e"
      },
      "cell_type": "code",
      "source": [
        "# data = Loader(filtered_df, config['year_intervals'], config['age_intervals'])\n",
        "X_df = pd.pivot(data=filtered_df, columns='ISBN', index='User-ID', values='Book-Rating')"
      ],
      "id": "ddda817dcb27c18e",
      "outputs": [],
      "execution_count": null
    },
    {
      "metadata": {
        "ExecuteTime": {
          "end_time": "2025-07-06T19:18:44.815269Z",
          "start_time": "2025-07-06T19:18:40.481376Z"
        },
        "id": "8b30b35cab72bca7"
      },
      "cell_type": "code",
      "source": [
        "X_df.fillna(0)\n",
        "X = torch.tensor(X_df.fillna(0).values, dtype=torch.float32)"
      ],
      "id": "8b30b35cab72bca7",
      "outputs": [],
      "execution_count": null
    },
    {
      "metadata": {
        "ExecuteTime": {
          "end_time": "2025-07-06T19:18:47.013701Z",
          "start_time": "2025-07-06T19:18:46.976650Z"
        },
        "id": "fdf678911efc3647"
      },
      "cell_type": "code",
      "source": [
        "print(X.shape)"
      ],
      "id": "fdf678911efc3647",
      "outputs": [],
      "execution_count": null
    },
    {
      "metadata": {
        "ExecuteTime": {
          "end_time": "2025-07-06T19:06:34.928049Z",
          "start_time": "2025-07-06T19:06:24.760304Z"
        },
        "id": "eed34f1ce197e206"
      },
      "cell_type": "code",
      "source": [
        "I = torch.eye(X.shape[1])\n",
        "reg = 1e-2 # should be 10 - 100\n",
        "P_hat = torch.inverse(X.T @ X + reg * I)"
      ],
      "id": "eed34f1ce197e206",
      "outputs": [],
      "execution_count": null
    },
    {
      "metadata": {
        "id": "1d0280f90cdac70a"
      },
      "cell_type": "code",
      "outputs": [],
      "execution_count": null,
      "source": [
        "B_hat = I - P_hat * torch.diag(I / torch.diag(P_hat))\n",
        "B_hat = B_hat.fill_diagonal_(0)\n",
        "print(B_hat.shape)"
      ],
      "id": "1d0280f90cdac70a"
    },
    {
      "metadata": {
        "id": "dff2d121e7ac1943"
      },
      "cell_type": "code",
      "outputs": [],
      "execution_count": null,
      "source": [
        "import pickle\n",
        "\n",
        "with open(\"model10.pkl\", \"wb\") as f:\n",
        "    pickle.dump(B_hat, f)"
      ],
      "id": "dff2d121e7ac1943"
    },
    {
      "cell_type": "code",
      "source": [
        "filtered_df['Book-Title'] = filtered_df['Book-Title'].str.lower()\n",
        "lotr_books = filtered_df[filtered_df[\"Book-Title\"] == 'the lord of the rings']\n",
        "lotr_books"
      ],
      "metadata": {
        "id": "XGAV0iKCPlTP"
      },
      "id": "XGAV0iKCPlTP",
      "execution_count": null,
      "outputs": []
    },
    {
      "cell_type": "code",
      "source": [
        "isbn = '0618260250'\n",
        "column_index = X_df.columns.get_loc(isbn)\n",
        "\n",
        "print(\"Column index:\", column_index)"
      ],
      "metadata": {
        "id": "uD5Da4hrOyoL"
      },
      "id": "uD5Da4hrOyoL",
      "execution_count": null,
      "outputs": []
    },
    {
      "cell_type": "code",
      "source": [
        "sim = B_hat @ B_hat[3858] # dot product, not cosine similarity"
      ],
      "metadata": {
        "id": "YBqFyORLScFZ"
      },
      "id": "YBqFyORLScFZ",
      "execution_count": null,
      "outputs": []
    },
    {
      "cell_type": "code",
      "source": [
        "sim[3858] = float('-inf') # mask out the same index\n",
        "top_index = sim.argmax().item()\n",
        "sim.max()"
      ],
      "metadata": {
        "id": "RP8sqqsaSpMf"
      },
      "id": "RP8sqqsaSpMf",
      "execution_count": null,
      "outputs": []
    },
    {
      "cell_type": "code",
      "source": [
        "top_isbn = X_df.columns[top_index]\n",
        "print(\"Most similar ISBN:\", top_isbn)"
      ],
      "metadata": {
        "id": "a4sAjX9BSoaU"
      },
      "id": "a4sAjX9BSoaU",
      "execution_count": null,
      "outputs": []
    },
    {
      "cell_type": "code",
      "source": [
        "filtered_df[filtered_df.ISBN == '006447108X'].describe()"
      ],
      "metadata": {
        "id": "nT5zRokhVlj5"
      },
      "id": "nT5zRokhVlj5",
      "execution_count": null,
      "outputs": []
    },
    {
      "metadata": {
        "id": "a54cdf568ed5cadb"
      },
      "cell_type": "code",
      "source": [
        "# import pickle\n",
        "#\n",
        "# with open(\"models/svd_model/model2.pkl\", \"wb\") as f:\n",
        "#     pickle.dump(model, f)\n",
        "#\n",
        "# with open(\"models/svd_model/inner2title2.pkl\", \"wb\") as f:\n",
        "#     pickle.dump(inner2title, f)"
      ],
      "id": "a54cdf568ed5cadb",
      "outputs": [],
      "execution_count": null
    },
    {
      "metadata": {
        "id": "18e409dc272ecd10"
      },
      "cell_type": "markdown",
      "source": [
        "Since the feedback is so sparse, I'll try a NN based approach incorporate book and user metadata. For that, I need to do some more data preprocessing"
      ],
      "id": "18e409dc272ecd10"
    },
    {
      "metadata": {
        "id": "e83ca127633d59e6"
      },
      "cell_type": "code",
      "source": [
        "# split_idx = int(0.8 * len(filtered_df))\n",
        "# train_df = filtered_df[:split_idx]\n",
        "# test_df = filtered_df[split_idx:]\n",
        "\n",
        "# train = torch.utils.data.DataLoader(Loader(train_df, config['year_intervals'], config['age_intervals']),\n",
        "#                                     batch_size=config['batch_size'], shuffle=True)\n",
        "# test = torch.utils.data.DataLoader(Loader(test_df, config['year_intervals'], config['age_intervals']),\n",
        "#                                     batch_size=config['batch_size'], shuffle=False)\n",
        "\n",
        "# nn_model = Recommender(\n",
        "#     filtered_df['User-ID'].nunique(),\n",
        "#     filtered_df['ISBN'].nunique(),\n",
        "#     filtered_df['Location'].nunique() * len(config['age_intervals']),\n",
        "#     filtered_df['Book-Author'].nunique() * len(config['year_intervals']))\n",
        "\n",
        "# optimizer = torch.optim.AdamW(nn_model.parameters(), lr=1e-3, weight_decay=1e-3)"
      ],
      "id": "e83ca127633d59e6",
      "outputs": [],
      "execution_count": null
    },
    {
      "metadata": {
        "id": "8af3bcb472d5dd57"
      },
      "cell_type": "code",
      "source": [
        "# for i in range(config['epochs']):\n",
        "#     nn_model.train()\n",
        "#     train_losses = []\n",
        "#     for (x, y) in train:\n",
        "#         optimizer.zero_grad()\n",
        "#         y_pred = nn_model(x)\n",
        "#         metric = torch.sqrt(torch.nn.functional.mse_loss(y_pred.sigmoid() * 10, y))\n",
        "#         loss = torch.nn.functional.binary_cross_entropy_with_logits(y_pred, y / 10)\n",
        "#         train_losses.append(metric.item())\n",
        "#         loss.backward()\n",
        "#         optimizer.step()\n",
        "\n",
        "#     nn_model.eval()\n",
        "#     test_losses = []\n",
        "#     with torch.no_grad():\n",
        "#         for (x, y) in test:\n",
        "#             y_pred = nn_model(x).squeeze(-1)\n",
        "#             loss = torch.sqrt(torch.nn.functional.mse_loss(y_pred.sigmoid() * 10, y))\n",
        "#             test_losses.append(loss.item())\n",
        "\n",
        "#     train_rmse = np.mean(train_losses)\n",
        "#     test_rmse = np.mean(test_losses)\n",
        "#     print(f\"Epoch {i+1}/{config['epochs']} - Train RMSE: {train_rmse:.4f}, Test RMSE: {test_rmse:.4f}\")"
      ],
      "id": "8af3bcb472d5dd57",
      "outputs": [],
      "execution_count": null
    },
    {
      "metadata": {
        "id": "c771d5a442eeccb7"
      },
      "cell_type": "code",
      "source": [
        "# def book2book_retrieval(book_title, train, model, book2idx, idx2book, top_n=10):\n",
        "#     key = book_title.lower()\n",
        "#     if key not in title2inner:\n",
        "#         # find a partial match\n",
        "#         for inner_id, title in inner2title.items():\n",
        "#             if book_title.lower() in title:\n",
        "#                 key = title\n",
        "#                 break\n",
        "#         else:\n",
        "#             print(f\"No match found for '{book_title}'\")\n",
        "#             return []\n",
        "#         print(f\"No exact match for '{book_title}' found. Showing results for '{key}' instead.\")\n",
        "\n",
        "#     inner_id = title2inner[key] # the inner key in this case is actually the ISBN\n",
        "\n",
        "#     # cosine sim\n",
        "#     author = train.ratings.loc[train.ratings['ISBN'] == inner_id, 'Book-Author'].iloc[0]\n",
        "#     year_bin = train.ratings.loc[train.ratings['ISBN'] == inner_id, 'Year-Of-Publication'].iloc[0]\n",
        "#     sims = model.item_embeddings()\n",
        "\n",
        "#     recs = [\n",
        "#         (inner2title[iid], round(score, 3))\n",
        "#         for iid, score in enumerate(sims)\n",
        "#         if iid != inner_id\n",
        "#     ]\n",
        "#     recs.sort(key=lambda x: x[1], reverse=True)\n",
        "#     return recs[:top_n]"
      ],
      "id": "c771d5a442eeccb7",
      "outputs": [],
      "execution_count": null
    },
    {
      "metadata": {
        "id": "bb6a165ceb6b8efb"
      },
      "cell_type": "code",
      "source": [
        "# book2book_retrieval()"
      ],
      "id": "bb6a165ceb6b8efb",
      "outputs": [],
      "execution_count": null
    }
  ],
  "metadata": {
    "colab": {
      "provenance": []
    },
    "language_info": {
      "name": "python"
    },
    "kernelspec": {
      "name": "python3",
      "display_name": "Python 3"
    }
  },
  "nbformat": 4,
  "nbformat_minor": 5
}