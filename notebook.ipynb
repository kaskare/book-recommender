{
 "cells": [
  {
   "metadata": {
    "ExecuteTime": {
     "end_time": "2025-07-01T14:33:13.162961Z",
     "start_time": "2025-07-01T14:33:13.156996Z"
    }
   },
   "cell_type": "code",
   "source": "#!pip install -r requirements.txt",
   "id": "7117191b989792a2",
   "outputs": [],
   "execution_count": 1
  },
  {
   "metadata": {
    "ExecuteTime": {
     "end_time": "2025-07-01T14:33:14.726275Z",
     "start_time": "2025-07-01T14:33:13.542443Z"
    }
   },
   "cell_type": "code",
   "source": [
    "import pandas as pd\n",
    "import numpy as np\n",
    "import matplotlib.pyplot as plt"
   ],
   "id": "8b4336e0e00cf63f",
   "outputs": [],
   "execution_count": 2
  },
  {
   "metadata": {
    "ExecuteTime": {
     "end_time": "2025-07-01T14:33:17.092852Z",
     "start_time": "2025-07-01T14:33:14.738114Z"
    }
   },
   "cell_type": "code",
   "source": [
    "import kagglehub\n",
    "\n",
    "# Download latest version\n",
    "path = kagglehub.dataset_download(\"arashnic/book-recommendation-dataset\")\n",
    "\n",
    "print(\"Path to dataset files:\", path)\n",
    "books = pd.read_csv(f\"{path}/Books.csv\")\n",
    "ratings = pd.read_csv(f\"{path}/Ratings.csv\")\n",
    "users= pd.read_csv(f\"{path}/Users.csv\")\n",
    "\n",
    "book_of_interest = 'the lord of the rings'"
   ],
   "id": "1b649e23df0e3be7",
   "outputs": [
    {
     "name": "stderr",
     "output_type": "stream",
     "text": [
      "/tmp/ipykernel_3975/1594531792.py:2: DtypeWarning: Columns (3) have mixed types. Specify dtype option on import or set low_memory=False.\n",
      "  books = pd.read_csv(f\"{path}/Books.csv\")\n"
     ]
    }
   ],
   "execution_count": 3
  },
  {
   "metadata": {},
   "cell_type": "markdown",
   "source": "Find LOTR books in the database",
   "id": "f5e3bd3f8d60c89f"
  },
  {
   "metadata": {
    "ExecuteTime": {
     "end_time": "2025-07-01T14:33:17.293316Z",
     "start_time": "2025-07-01T14:33:17.117703Z"
    }
   },
   "cell_type": "code",
   "source": [
    "books['Book-Title'] = books['Book-Title'].str.lower()\n",
    "lotr_books = books[books[\"Book-Title\"].str.contains(book_of_interest)]\n",
    "lotr_books.head(20)"
   ],
   "id": "4f87ba9160069596",
   "outputs": [
    {
     "data": {
      "text/plain": [
       "             ISBN                                         Book-Title  \\\n",
       "780    0345339711     the two towers (the lord of the rings, part 2)   \n",
       "1571   0345339703  the fellowship of the ring (the lord of the ri...   \n",
       "3354   0345339681  the hobbit : the enchanting prelude to the lor...   \n",
       "4206   0345339738  the return of the king (the lord of the rings,...   \n",
       "6060   0618129022            the lord of the rings (movie art cover)   \n",
       "6866   0345340426               the hobbit and the lord of the rings   \n",
       "11083  0618129014            the lord of the rings (movie art cover)   \n",
       "12761  0618002243  the return of the king (the lord of the rings,...   \n",
       "12762  0618002235     the two towers (the lord of the rings, part 2)   \n",
       "12763  0618002227  the fellowship of the ring (the lord of the ri...   \n",
       "15218  0395193958  the lord of the rings (leatherette collector's...   \n",
       "15917  0618129030  the fellowship of the ring (the lord of the ri...   \n",
       "21490  0395489326                              the lord of the rings   \n",
       "26488  8445070320      el senor de los anillos/the lord of the rings   \n",
       "26587  0618129111  the return of the king (the lord of the rings,...   \n",
       "30092  0618260552  the return of the king (the lord of the rings,...   \n",
       "30093  0618260595     the two towers (the lord of the rings, part 2)   \n",
       "30094  061826051X  the fellowship of the ring (the lord of the ri...   \n",
       "34092  0618153969                              the lord of the rings   \n",
       "34409  0395974682         the lord of the rings (one volume edition)   \n",
       "\n",
       "            Book-Author Year-Of-Publication                 Publisher  \\\n",
       "780      J.R.R. TOLKIEN                1986                   Del Rey   \n",
       "1571     J.R.R. TOLKIEN                1986                   Del Rey   \n",
       "3354     J.R.R. TOLKIEN                1986                   Del Rey   \n",
       "4206     J.R.R. TOLKIEN                1986                   Del Rey   \n",
       "6060     J.R.R. Tolkien                2001  Houghton Mifflin Company   \n",
       "6866     J.R.R. TOLKIEN                1986                   Del Rey   \n",
       "11083  J. R. R. Tolkien                2001  Houghton Mifflin Company   \n",
       "12761  J. R. R. Tolkien                1999  Houghton Mifflin Company   \n",
       "12762  J. R. R. Tolkien                1999  Houghton Mifflin Company   \n",
       "12763  J. R. R. Tolkien                1999  Houghton Mifflin Company   \n",
       "15218  J. R. R. Tolkien                1974  Houghton Mifflin Company   \n",
       "15917  J. R. R. Tolkien                2001  Houghton Mifflin Company   \n",
       "21490  J. R. R. Tolkien                1988  Houghton Mifflin Company   \n",
       "26488  J. R. R. Tolkien                1985                 Minotauro   \n",
       "26587  J. R. R. Tolkien                2001  Houghton Mifflin Company   \n",
       "30092    J.R.R. Tolkien                2002          Houghton Mifflin   \n",
       "30093    J.R.R. Tolkien                2002          Houghton Mifflin   \n",
       "30094  J. R. R. Tolkien                2002  Houghton Mifflin Company   \n",
       "34092  J. R. R. Tolkien                2001  Houghton Mifflin Company   \n",
       "34409  J. R. R. Tolkien                1999  Houghton Mifflin Company   \n",
       "\n",
       "                                             Image-URL-S  \\\n",
       "780    http://images.amazon.com/images/P/0345339711.0...   \n",
       "1571   http://images.amazon.com/images/P/0345339703.0...   \n",
       "3354   http://images.amazon.com/images/P/0345339681.0...   \n",
       "4206   http://images.amazon.com/images/P/0345339738.0...   \n",
       "6060   http://images.amazon.com/images/P/0618129022.0...   \n",
       "6866   http://images.amazon.com/images/P/0345340426.0...   \n",
       "11083  http://images.amazon.com/images/P/0618129014.0...   \n",
       "12761  http://images.amazon.com/images/P/0618002243.0...   \n",
       "12762  http://images.amazon.com/images/P/0618002235.0...   \n",
       "12763  http://images.amazon.com/images/P/0618002227.0...   \n",
       "15218  http://images.amazon.com/images/P/0395193958.0...   \n",
       "15917  http://images.amazon.com/images/P/0618129030.0...   \n",
       "21490  http://images.amazon.com/images/P/0395489326.0...   \n",
       "26488  http://images.amazon.com/images/P/8445070320.0...   \n",
       "26587  http://images.amazon.com/images/P/0618129111.0...   \n",
       "30092  http://images.amazon.com/images/P/0618260552.0...   \n",
       "30093  http://images.amazon.com/images/P/0618260595.0...   \n",
       "30094  http://images.amazon.com/images/P/061826051X.0...   \n",
       "34092  http://images.amazon.com/images/P/0618153969.0...   \n",
       "34409  http://images.amazon.com/images/P/0395974682.0...   \n",
       "\n",
       "                                             Image-URL-M  \\\n",
       "780    http://images.amazon.com/images/P/0345339711.0...   \n",
       "1571   http://images.amazon.com/images/P/0345339703.0...   \n",
       "3354   http://images.amazon.com/images/P/0345339681.0...   \n",
       "4206   http://images.amazon.com/images/P/0345339738.0...   \n",
       "6060   http://images.amazon.com/images/P/0618129022.0...   \n",
       "6866   http://images.amazon.com/images/P/0345340426.0...   \n",
       "11083  http://images.amazon.com/images/P/0618129014.0...   \n",
       "12761  http://images.amazon.com/images/P/0618002243.0...   \n",
       "12762  http://images.amazon.com/images/P/0618002235.0...   \n",
       "12763  http://images.amazon.com/images/P/0618002227.0...   \n",
       "15218  http://images.amazon.com/images/P/0395193958.0...   \n",
       "15917  http://images.amazon.com/images/P/0618129030.0...   \n",
       "21490  http://images.amazon.com/images/P/0395489326.0...   \n",
       "26488  http://images.amazon.com/images/P/8445070320.0...   \n",
       "26587  http://images.amazon.com/images/P/0618129111.0...   \n",
       "30092  http://images.amazon.com/images/P/0618260552.0...   \n",
       "30093  http://images.amazon.com/images/P/0618260595.0...   \n",
       "30094  http://images.amazon.com/images/P/061826051X.0...   \n",
       "34092  http://images.amazon.com/images/P/0618153969.0...   \n",
       "34409  http://images.amazon.com/images/P/0395974682.0...   \n",
       "\n",
       "                                             Image-URL-L  \n",
       "780    http://images.amazon.com/images/P/0345339711.0...  \n",
       "1571   http://images.amazon.com/images/P/0345339703.0...  \n",
       "3354   http://images.amazon.com/images/P/0345339681.0...  \n",
       "4206   http://images.amazon.com/images/P/0345339738.0...  \n",
       "6060   http://images.amazon.com/images/P/0618129022.0...  \n",
       "6866   http://images.amazon.com/images/P/0345340426.0...  \n",
       "11083  http://images.amazon.com/images/P/0618129014.0...  \n",
       "12761  http://images.amazon.com/images/P/0618002243.0...  \n",
       "12762  http://images.amazon.com/images/P/0618002235.0...  \n",
       "12763  http://images.amazon.com/images/P/0618002227.0...  \n",
       "15218  http://images.amazon.com/images/P/0395193958.0...  \n",
       "15917  http://images.amazon.com/images/P/0618129030.0...  \n",
       "21490  http://images.amazon.com/images/P/0395489326.0...  \n",
       "26488  http://images.amazon.com/images/P/8445070320.0...  \n",
       "26587  http://images.amazon.com/images/P/0618129111.0...  \n",
       "30092  http://images.amazon.com/images/P/0618260552.0...  \n",
       "30093  http://images.amazon.com/images/P/0618260595.0...  \n",
       "30094  http://images.amazon.com/images/P/061826051X.0...  \n",
       "34092  http://images.amazon.com/images/P/0618153969.0...  \n",
       "34409  http://images.amazon.com/images/P/0395974682.0...  "
      ],
      "text/html": [
       "<div>\n",
       "<style scoped>\n",
       "    .dataframe tbody tr th:only-of-type {\n",
       "        vertical-align: middle;\n",
       "    }\n",
       "\n",
       "    .dataframe tbody tr th {\n",
       "        vertical-align: top;\n",
       "    }\n",
       "\n",
       "    .dataframe thead th {\n",
       "        text-align: right;\n",
       "    }\n",
       "</style>\n",
       "<table border=\"1\" class=\"dataframe\">\n",
       "  <thead>\n",
       "    <tr style=\"text-align: right;\">\n",
       "      <th></th>\n",
       "      <th>ISBN</th>\n",
       "      <th>Book-Title</th>\n",
       "      <th>Book-Author</th>\n",
       "      <th>Year-Of-Publication</th>\n",
       "      <th>Publisher</th>\n",
       "      <th>Image-URL-S</th>\n",
       "      <th>Image-URL-M</th>\n",
       "      <th>Image-URL-L</th>\n",
       "    </tr>\n",
       "  </thead>\n",
       "  <tbody>\n",
       "    <tr>\n",
       "      <th>780</th>\n",
       "      <td>0345339711</td>\n",
       "      <td>the two towers (the lord of the rings, part 2)</td>\n",
       "      <td>J.R.R. TOLKIEN</td>\n",
       "      <td>1986</td>\n",
       "      <td>Del Rey</td>\n",
       "      <td>http://images.amazon.com/images/P/0345339711.0...</td>\n",
       "      <td>http://images.amazon.com/images/P/0345339711.0...</td>\n",
       "      <td>http://images.amazon.com/images/P/0345339711.0...</td>\n",
       "    </tr>\n",
       "    <tr>\n",
       "      <th>1571</th>\n",
       "      <td>0345339703</td>\n",
       "      <td>the fellowship of the ring (the lord of the ri...</td>\n",
       "      <td>J.R.R. TOLKIEN</td>\n",
       "      <td>1986</td>\n",
       "      <td>Del Rey</td>\n",
       "      <td>http://images.amazon.com/images/P/0345339703.0...</td>\n",
       "      <td>http://images.amazon.com/images/P/0345339703.0...</td>\n",
       "      <td>http://images.amazon.com/images/P/0345339703.0...</td>\n",
       "    </tr>\n",
       "    <tr>\n",
       "      <th>3354</th>\n",
       "      <td>0345339681</td>\n",
       "      <td>the hobbit : the enchanting prelude to the lor...</td>\n",
       "      <td>J.R.R. TOLKIEN</td>\n",
       "      <td>1986</td>\n",
       "      <td>Del Rey</td>\n",
       "      <td>http://images.amazon.com/images/P/0345339681.0...</td>\n",
       "      <td>http://images.amazon.com/images/P/0345339681.0...</td>\n",
       "      <td>http://images.amazon.com/images/P/0345339681.0...</td>\n",
       "    </tr>\n",
       "    <tr>\n",
       "      <th>4206</th>\n",
       "      <td>0345339738</td>\n",
       "      <td>the return of the king (the lord of the rings,...</td>\n",
       "      <td>J.R.R. TOLKIEN</td>\n",
       "      <td>1986</td>\n",
       "      <td>Del Rey</td>\n",
       "      <td>http://images.amazon.com/images/P/0345339738.0...</td>\n",
       "      <td>http://images.amazon.com/images/P/0345339738.0...</td>\n",
       "      <td>http://images.amazon.com/images/P/0345339738.0...</td>\n",
       "    </tr>\n",
       "    <tr>\n",
       "      <th>6060</th>\n",
       "      <td>0618129022</td>\n",
       "      <td>the lord of the rings (movie art cover)</td>\n",
       "      <td>J.R.R. Tolkien</td>\n",
       "      <td>2001</td>\n",
       "      <td>Houghton Mifflin Company</td>\n",
       "      <td>http://images.amazon.com/images/P/0618129022.0...</td>\n",
       "      <td>http://images.amazon.com/images/P/0618129022.0...</td>\n",
       "      <td>http://images.amazon.com/images/P/0618129022.0...</td>\n",
       "    </tr>\n",
       "    <tr>\n",
       "      <th>6866</th>\n",
       "      <td>0345340426</td>\n",
       "      <td>the hobbit and the lord of the rings</td>\n",
       "      <td>J.R.R. TOLKIEN</td>\n",
       "      <td>1986</td>\n",
       "      <td>Del Rey</td>\n",
       "      <td>http://images.amazon.com/images/P/0345340426.0...</td>\n",
       "      <td>http://images.amazon.com/images/P/0345340426.0...</td>\n",
       "      <td>http://images.amazon.com/images/P/0345340426.0...</td>\n",
       "    </tr>\n",
       "    <tr>\n",
       "      <th>11083</th>\n",
       "      <td>0618129014</td>\n",
       "      <td>the lord of the rings (movie art cover)</td>\n",
       "      <td>J. R. R. Tolkien</td>\n",
       "      <td>2001</td>\n",
       "      <td>Houghton Mifflin Company</td>\n",
       "      <td>http://images.amazon.com/images/P/0618129014.0...</td>\n",
       "      <td>http://images.amazon.com/images/P/0618129014.0...</td>\n",
       "      <td>http://images.amazon.com/images/P/0618129014.0...</td>\n",
       "    </tr>\n",
       "    <tr>\n",
       "      <th>12761</th>\n",
       "      <td>0618002243</td>\n",
       "      <td>the return of the king (the lord of the rings,...</td>\n",
       "      <td>J. R. R. Tolkien</td>\n",
       "      <td>1999</td>\n",
       "      <td>Houghton Mifflin Company</td>\n",
       "      <td>http://images.amazon.com/images/P/0618002243.0...</td>\n",
       "      <td>http://images.amazon.com/images/P/0618002243.0...</td>\n",
       "      <td>http://images.amazon.com/images/P/0618002243.0...</td>\n",
       "    </tr>\n",
       "    <tr>\n",
       "      <th>12762</th>\n",
       "      <td>0618002235</td>\n",
       "      <td>the two towers (the lord of the rings, part 2)</td>\n",
       "      <td>J. R. R. Tolkien</td>\n",
       "      <td>1999</td>\n",
       "      <td>Houghton Mifflin Company</td>\n",
       "      <td>http://images.amazon.com/images/P/0618002235.0...</td>\n",
       "      <td>http://images.amazon.com/images/P/0618002235.0...</td>\n",
       "      <td>http://images.amazon.com/images/P/0618002235.0...</td>\n",
       "    </tr>\n",
       "    <tr>\n",
       "      <th>12763</th>\n",
       "      <td>0618002227</td>\n",
       "      <td>the fellowship of the ring (the lord of the ri...</td>\n",
       "      <td>J. R. R. Tolkien</td>\n",
       "      <td>1999</td>\n",
       "      <td>Houghton Mifflin Company</td>\n",
       "      <td>http://images.amazon.com/images/P/0618002227.0...</td>\n",
       "      <td>http://images.amazon.com/images/P/0618002227.0...</td>\n",
       "      <td>http://images.amazon.com/images/P/0618002227.0...</td>\n",
       "    </tr>\n",
       "    <tr>\n",
       "      <th>15218</th>\n",
       "      <td>0395193958</td>\n",
       "      <td>the lord of the rings (leatherette collector's...</td>\n",
       "      <td>J. R. R. Tolkien</td>\n",
       "      <td>1974</td>\n",
       "      <td>Houghton Mifflin Company</td>\n",
       "      <td>http://images.amazon.com/images/P/0395193958.0...</td>\n",
       "      <td>http://images.amazon.com/images/P/0395193958.0...</td>\n",
       "      <td>http://images.amazon.com/images/P/0395193958.0...</td>\n",
       "    </tr>\n",
       "    <tr>\n",
       "      <th>15917</th>\n",
       "      <td>0618129030</td>\n",
       "      <td>the fellowship of the ring (the lord of the ri...</td>\n",
       "      <td>J. R. R. Tolkien</td>\n",
       "      <td>2001</td>\n",
       "      <td>Houghton Mifflin Company</td>\n",
       "      <td>http://images.amazon.com/images/P/0618129030.0...</td>\n",
       "      <td>http://images.amazon.com/images/P/0618129030.0...</td>\n",
       "      <td>http://images.amazon.com/images/P/0618129030.0...</td>\n",
       "    </tr>\n",
       "    <tr>\n",
       "      <th>21490</th>\n",
       "      <td>0395489326</td>\n",
       "      <td>the lord of the rings</td>\n",
       "      <td>J. R. R. Tolkien</td>\n",
       "      <td>1988</td>\n",
       "      <td>Houghton Mifflin Company</td>\n",
       "      <td>http://images.amazon.com/images/P/0395489326.0...</td>\n",
       "      <td>http://images.amazon.com/images/P/0395489326.0...</td>\n",
       "      <td>http://images.amazon.com/images/P/0395489326.0...</td>\n",
       "    </tr>\n",
       "    <tr>\n",
       "      <th>26488</th>\n",
       "      <td>8445070320</td>\n",
       "      <td>el senor de los anillos/the lord of the rings</td>\n",
       "      <td>J. R. R. Tolkien</td>\n",
       "      <td>1985</td>\n",
       "      <td>Minotauro</td>\n",
       "      <td>http://images.amazon.com/images/P/8445070320.0...</td>\n",
       "      <td>http://images.amazon.com/images/P/8445070320.0...</td>\n",
       "      <td>http://images.amazon.com/images/P/8445070320.0...</td>\n",
       "    </tr>\n",
       "    <tr>\n",
       "      <th>26587</th>\n",
       "      <td>0618129111</td>\n",
       "      <td>the return of the king (the lord of the rings,...</td>\n",
       "      <td>J. R. R. Tolkien</td>\n",
       "      <td>2001</td>\n",
       "      <td>Houghton Mifflin Company</td>\n",
       "      <td>http://images.amazon.com/images/P/0618129111.0...</td>\n",
       "      <td>http://images.amazon.com/images/P/0618129111.0...</td>\n",
       "      <td>http://images.amazon.com/images/P/0618129111.0...</td>\n",
       "    </tr>\n",
       "    <tr>\n",
       "      <th>30092</th>\n",
       "      <td>0618260552</td>\n",
       "      <td>the return of the king (the lord of the rings,...</td>\n",
       "      <td>J.R.R. Tolkien</td>\n",
       "      <td>2002</td>\n",
       "      <td>Houghton Mifflin</td>\n",
       "      <td>http://images.amazon.com/images/P/0618260552.0...</td>\n",
       "      <td>http://images.amazon.com/images/P/0618260552.0...</td>\n",
       "      <td>http://images.amazon.com/images/P/0618260552.0...</td>\n",
       "    </tr>\n",
       "    <tr>\n",
       "      <th>30093</th>\n",
       "      <td>0618260595</td>\n",
       "      <td>the two towers (the lord of the rings, part 2)</td>\n",
       "      <td>J.R.R. Tolkien</td>\n",
       "      <td>2002</td>\n",
       "      <td>Houghton Mifflin</td>\n",
       "      <td>http://images.amazon.com/images/P/0618260595.0...</td>\n",
       "      <td>http://images.amazon.com/images/P/0618260595.0...</td>\n",
       "      <td>http://images.amazon.com/images/P/0618260595.0...</td>\n",
       "    </tr>\n",
       "    <tr>\n",
       "      <th>30094</th>\n",
       "      <td>061826051X</td>\n",
       "      <td>the fellowship of the ring (the lord of the ri...</td>\n",
       "      <td>J. R. R. Tolkien</td>\n",
       "      <td>2002</td>\n",
       "      <td>Houghton Mifflin Company</td>\n",
       "      <td>http://images.amazon.com/images/P/061826051X.0...</td>\n",
       "      <td>http://images.amazon.com/images/P/061826051X.0...</td>\n",
       "      <td>http://images.amazon.com/images/P/061826051X.0...</td>\n",
       "    </tr>\n",
       "    <tr>\n",
       "      <th>34092</th>\n",
       "      <td>0618153969</td>\n",
       "      <td>the lord of the rings</td>\n",
       "      <td>J. R. R. Tolkien</td>\n",
       "      <td>2001</td>\n",
       "      <td>Houghton Mifflin Company</td>\n",
       "      <td>http://images.amazon.com/images/P/0618153969.0...</td>\n",
       "      <td>http://images.amazon.com/images/P/0618153969.0...</td>\n",
       "      <td>http://images.amazon.com/images/P/0618153969.0...</td>\n",
       "    </tr>\n",
       "    <tr>\n",
       "      <th>34409</th>\n",
       "      <td>0395974682</td>\n",
       "      <td>the lord of the rings (one volume edition)</td>\n",
       "      <td>J. R. R. Tolkien</td>\n",
       "      <td>1999</td>\n",
       "      <td>Houghton Mifflin Company</td>\n",
       "      <td>http://images.amazon.com/images/P/0395974682.0...</td>\n",
       "      <td>http://images.amazon.com/images/P/0395974682.0...</td>\n",
       "      <td>http://images.amazon.com/images/P/0395974682.0...</td>\n",
       "    </tr>\n",
       "  </tbody>\n",
       "</table>\n",
       "</div>"
      ]
     },
     "execution_count": 4,
     "metadata": {},
     "output_type": "execute_result"
    }
   ],
   "execution_count": 4
  },
  {
   "metadata": {},
   "cell_type": "markdown",
   "source": "Books",
   "id": "8e8a2d1ad7949bc0"
  },
  {
   "metadata": {
    "ExecuteTime": {
     "end_time": "2025-07-01T14:33:17.339806Z",
     "start_time": "2025-07-01T14:33:17.325365Z"
    }
   },
   "cell_type": "code",
   "source": "books.head()",
   "id": "a12794a5b8723b6d",
   "outputs": [
    {
     "data": {
      "text/plain": [
       "         ISBN                                         Book-Title  \\\n",
       "0  0195153448                                classical mythology   \n",
       "1  0002005018                                       clara callan   \n",
       "2  0060973129                               decision in normandy   \n",
       "3  0374157065  flu: the story of the great influenza pandemic...   \n",
       "4  0393045218                             the mummies of urumchi   \n",
       "\n",
       "            Book-Author Year-Of-Publication                   Publisher  \\\n",
       "0    Mark P. O. Morford                2002     Oxford University Press   \n",
       "1  Richard Bruce Wright                2001       HarperFlamingo Canada   \n",
       "2          Carlo D'Este                1991             HarperPerennial   \n",
       "3      Gina Bari Kolata                1999        Farrar Straus Giroux   \n",
       "4       E. J. W. Barber                1999  W. W. Norton &amp; Company   \n",
       "\n",
       "                                         Image-URL-S  \\\n",
       "0  http://images.amazon.com/images/P/0195153448.0...   \n",
       "1  http://images.amazon.com/images/P/0002005018.0...   \n",
       "2  http://images.amazon.com/images/P/0060973129.0...   \n",
       "3  http://images.amazon.com/images/P/0374157065.0...   \n",
       "4  http://images.amazon.com/images/P/0393045218.0...   \n",
       "\n",
       "                                         Image-URL-M  \\\n",
       "0  http://images.amazon.com/images/P/0195153448.0...   \n",
       "1  http://images.amazon.com/images/P/0002005018.0...   \n",
       "2  http://images.amazon.com/images/P/0060973129.0...   \n",
       "3  http://images.amazon.com/images/P/0374157065.0...   \n",
       "4  http://images.amazon.com/images/P/0393045218.0...   \n",
       "\n",
       "                                         Image-URL-L  \n",
       "0  http://images.amazon.com/images/P/0195153448.0...  \n",
       "1  http://images.amazon.com/images/P/0002005018.0...  \n",
       "2  http://images.amazon.com/images/P/0060973129.0...  \n",
       "3  http://images.amazon.com/images/P/0374157065.0...  \n",
       "4  http://images.amazon.com/images/P/0393045218.0...  "
      ],
      "text/html": [
       "<div>\n",
       "<style scoped>\n",
       "    .dataframe tbody tr th:only-of-type {\n",
       "        vertical-align: middle;\n",
       "    }\n",
       "\n",
       "    .dataframe tbody tr th {\n",
       "        vertical-align: top;\n",
       "    }\n",
       "\n",
       "    .dataframe thead th {\n",
       "        text-align: right;\n",
       "    }\n",
       "</style>\n",
       "<table border=\"1\" class=\"dataframe\">\n",
       "  <thead>\n",
       "    <tr style=\"text-align: right;\">\n",
       "      <th></th>\n",
       "      <th>ISBN</th>\n",
       "      <th>Book-Title</th>\n",
       "      <th>Book-Author</th>\n",
       "      <th>Year-Of-Publication</th>\n",
       "      <th>Publisher</th>\n",
       "      <th>Image-URL-S</th>\n",
       "      <th>Image-URL-M</th>\n",
       "      <th>Image-URL-L</th>\n",
       "    </tr>\n",
       "  </thead>\n",
       "  <tbody>\n",
       "    <tr>\n",
       "      <th>0</th>\n",
       "      <td>0195153448</td>\n",
       "      <td>classical mythology</td>\n",
       "      <td>Mark P. O. Morford</td>\n",
       "      <td>2002</td>\n",
       "      <td>Oxford University Press</td>\n",
       "      <td>http://images.amazon.com/images/P/0195153448.0...</td>\n",
       "      <td>http://images.amazon.com/images/P/0195153448.0...</td>\n",
       "      <td>http://images.amazon.com/images/P/0195153448.0...</td>\n",
       "    </tr>\n",
       "    <tr>\n",
       "      <th>1</th>\n",
       "      <td>0002005018</td>\n",
       "      <td>clara callan</td>\n",
       "      <td>Richard Bruce Wright</td>\n",
       "      <td>2001</td>\n",
       "      <td>HarperFlamingo Canada</td>\n",
       "      <td>http://images.amazon.com/images/P/0002005018.0...</td>\n",
       "      <td>http://images.amazon.com/images/P/0002005018.0...</td>\n",
       "      <td>http://images.amazon.com/images/P/0002005018.0...</td>\n",
       "    </tr>\n",
       "    <tr>\n",
       "      <th>2</th>\n",
       "      <td>0060973129</td>\n",
       "      <td>decision in normandy</td>\n",
       "      <td>Carlo D'Este</td>\n",
       "      <td>1991</td>\n",
       "      <td>HarperPerennial</td>\n",
       "      <td>http://images.amazon.com/images/P/0060973129.0...</td>\n",
       "      <td>http://images.amazon.com/images/P/0060973129.0...</td>\n",
       "      <td>http://images.amazon.com/images/P/0060973129.0...</td>\n",
       "    </tr>\n",
       "    <tr>\n",
       "      <th>3</th>\n",
       "      <td>0374157065</td>\n",
       "      <td>flu: the story of the great influenza pandemic...</td>\n",
       "      <td>Gina Bari Kolata</td>\n",
       "      <td>1999</td>\n",
       "      <td>Farrar Straus Giroux</td>\n",
       "      <td>http://images.amazon.com/images/P/0374157065.0...</td>\n",
       "      <td>http://images.amazon.com/images/P/0374157065.0...</td>\n",
       "      <td>http://images.amazon.com/images/P/0374157065.0...</td>\n",
       "    </tr>\n",
       "    <tr>\n",
       "      <th>4</th>\n",
       "      <td>0393045218</td>\n",
       "      <td>the mummies of urumchi</td>\n",
       "      <td>E. J. W. Barber</td>\n",
       "      <td>1999</td>\n",
       "      <td>W. W. Norton &amp;amp; Company</td>\n",
       "      <td>http://images.amazon.com/images/P/0393045218.0...</td>\n",
       "      <td>http://images.amazon.com/images/P/0393045218.0...</td>\n",
       "      <td>http://images.amazon.com/images/P/0393045218.0...</td>\n",
       "    </tr>\n",
       "  </tbody>\n",
       "</table>\n",
       "</div>"
      ]
     },
     "execution_count": 5,
     "metadata": {},
     "output_type": "execute_result"
    }
   ],
   "execution_count": 5
  },
  {
   "metadata": {},
   "cell_type": "markdown",
   "source": "Get rid of images and nan values",
   "id": "248f4539d23c29a"
  },
  {
   "metadata": {
    "ExecuteTime": {
     "end_time": "2025-07-01T14:33:17.570415Z",
     "start_time": "2025-07-01T14:33:17.417749Z"
    }
   },
   "cell_type": "code",
   "source": [
    "books.drop(['Image-URL-S', 'Image-URL-M', 'Image-URL-L'], axis=1, inplace=True)\n",
    "print(books.isna().any(axis=1).sum()) # there only 4 incomplete rows, I'll simply drop them\n",
    "books.dropna(inplace=True)"
   ],
   "id": "3f7476c878d988d0",
   "outputs": [
    {
     "name": "stdout",
     "output_type": "stream",
     "text": [
      "4\n"
     ]
    }
   ],
   "execution_count": 6
  },
  {
   "metadata": {},
   "cell_type": "markdown",
   "source": "I might deduplicate on (author + title) pairs later on, as there may be ratings for same books with different ISBNs that I would otherwise get rid off",
   "id": "fd3db189e79cd041"
  },
  {
   "metadata": {
    "ExecuteTime": {
     "end_time": "2025-07-01T14:33:17.746334Z",
     "start_time": "2025-07-01T14:33:17.595070Z"
    }
   },
   "cell_type": "code",
   "source": [
    "num_duplicates = books.duplicated(subset=['Book-Title', 'Book-Author']).sum()\n",
    "\n",
    "print(f\"Duplicate books ({round(num_duplicates*100/len(books), 2)} %)\")"
   ],
   "id": "25838d91bb4e5c88",
   "outputs": [
    {
     "name": "stdout",
     "output_type": "stream",
     "text": [
      "Duplicate books (8.17 %)\n"
     ]
    }
   ],
   "execution_count": 7
  },
  {
   "metadata": {
    "ExecuteTime": {
     "end_time": "2025-07-01T14:33:17.946272Z",
     "start_time": "2025-07-01T14:33:17.771590Z"
    }
   },
   "cell_type": "code",
   "source": [
    "books['Year-Of-Publication'] = pd.to_numeric(books['Year-Of-Publication'], errors='coerce')\n",
    "books = books.fillna({'Year-Of-Publication': 1993}) # 1993 is the mean\n",
    "books['Year-Of-Publication'][books['Year-Of-Publication'] > 0].describe()"
   ],
   "id": "85ca5fb11015cd13",
   "outputs": [
    {
     "data": {
      "text/plain": [
       "count    266735.000000\n",
       "mean       1993.689688\n",
       "std           8.325839\n",
       "min        1376.000000\n",
       "25%        1989.000000\n",
       "50%        1996.000000\n",
       "75%        2000.000000\n",
       "max        2050.000000\n",
       "Name: Year-Of-Publication, dtype: float64"
      ]
     },
     "execution_count": 8,
     "metadata": {},
     "output_type": "execute_result"
    }
   ],
   "execution_count": 8
  },
  {
   "metadata": {
    "ExecuteTime": {
     "end_time": "2025-07-01T14:33:18.333780Z",
     "start_time": "2025-07-01T14:33:17.964486Z"
    }
   },
   "cell_type": "code",
   "source": [
    "author_count = books['Book-Author'].value_counts().reset_index(name='Count').sort_values('Count', ascending=False).head(10)\n",
    "\n",
    "fig, ax = plt.subplots(1, 1, figsize=(10, 4))\n",
    "ax.bar(author_count['Book-Author'], author_count['Count'], color='salmon')\n",
    "ax.set_xticks(range(len(author_count)))\n",
    "ax.set_xticklabels(author_count['Book-Author'], rotation=45)\n",
    "ax.set_title('Top Authors')"
   ],
   "id": "9e1c09be876825e5",
   "outputs": [
    {
     "data": {
      "text/plain": [
       "Text(0.5, 1.0, 'Top Authors')"
      ]
     },
     "execution_count": 9,
     "metadata": {},
     "output_type": "execute_result"
    },
    {
     "data": {
      "text/plain": [
       "<Figure size 1000x400 with 1 Axes>"
      ],
      "image/png": "[encoded data removed]"
     },
     "metadata": {},
     "output_type": "display_data"
    }
   ],
   "execution_count": 9
  },
  {
   "metadata": {},
   "cell_type": "markdown",
   "source": "Users",
   "id": "c5ad74894cac72a5"
  },
  {
   "metadata": {
    "ExecuteTime": {
     "end_time": "2025-07-01T14:33:18.535287Z",
     "start_time": "2025-07-01T14:33:18.356405Z"
    }
   },
   "cell_type": "code",
   "source": [
    "users['Location'] = users['Location'].apply(lambda x: x.split(',')[-1].lower())\n",
    "users['Location'].unique()[:100]"
   ],
   "id": "7bd0466ee2c8377",
   "outputs": [
    {
     "data": {
      "text/plain": [
       "array([' usa', ' russia', ' portugal', ' united kingdom', ' canada',\n",
       "       ' spain', ' australia', ' brazil', '', ' germany', ' mexico',\n",
       "       ' china', ' italy', ' distrito federal', ' france', ' netherlands',\n",
       "       ' iraq', ' finland', ' new zealand', ' india', ' ghana',\n",
       "       ' switzerland', ' slovenia', ' iran', ' peru',\n",
       "       ' bosnia and herzegovina', ' vietnam', ' sri lanka', ' pakistan',\n",
       "       ' denmark', ' belgium', ' malaysia', ' u.a.e', ' turkey',\n",
       "       ' philippines', ' greece', ' colombia', ' norway', ' kuwait',\n",
       "       ' chile', ' quit', ' lj', ' taiwan', ' denmark\"', ' españa',\n",
       "       ' sweden', ' argentina', ' nigeria', ' london', ' bulgaria',\n",
       "       ' austria', ' romania', ' singapore', ' albania', ' egypt',\n",
       "       ' tunisia', ' uzbekistan', ' qatar', ' syria', ' saudi arabia',\n",
       "       ' indonesia', ' sudan', ' somewherein space', ' poland',\n",
       "       ' thailand', ' ireland', ' malaysia\"', ' venezuela', ' paraguay',\n",
       "       ' mozambique', ' morocco', ' afghanistan', ' estonia',\n",
       "       ' clackamas', ' spain\"', '\"', ' lesotho', ' yugoslavia',\n",
       "       ' slovakia', ' costa rica', ' basque country',\n",
       "       ' british virgin islands', ' ethiopia', ' croatia',\n",
       "       ' united kingdom\"', ' portugal\"', ' israel', ' japan', ' israel\"',\n",
       "       ' iceland', ' the', ' south africa', ' iran\"', ' cuba',\n",
       "       ' antigua and barbuda', ' calabria', ' alderney', ' puerto rico',\n",
       "       ' hong kong', ' nigeria\"'], dtype=object)"
      ]
     },
     "execution_count": 10,
     "metadata": {},
     "output_type": "execute_result"
    }
   ],
   "execution_count": 10
  },
  {
   "metadata": {
    "ExecuteTime": {
     "end_time": "2025-07-01T14:33:18.574478Z",
     "start_time": "2025-07-01T14:33:18.556906Z"
    }
   },
   "cell_type": "code",
   "source": "users.isna().sum()",
   "id": "9dfe6bc618dd8bd2",
   "outputs": [
    {
     "data": {
      "text/plain": [
       "User-ID          0\n",
       "Location         0\n",
       "Age         110762\n",
       "dtype: int64"
      ]
     },
     "execution_count": 11,
     "metadata": {},
     "output_type": "execute_result"
    }
   ],
   "execution_count": 11
  },
  {
   "metadata": {
    "ExecuteTime": {
     "end_time": "2025-07-01T14:33:18.626239Z",
     "start_time": "2025-07-01T14:33:18.619478Z"
    }
   },
   "cell_type": "code",
   "source": "users['Age'].isna().sum() / len(users['Age'])",
   "id": "16ba59bc200c837d",
   "outputs": [
    {
     "data": {
      "text/plain": [
       "0.3971985741847105"
      ]
     },
     "execution_count": 12,
     "metadata": {},
     "output_type": "execute_result"
    }
   ],
   "execution_count": 12
  },
  {
   "metadata": {
    "ExecuteTime": {
     "end_time": "2025-07-01T14:33:18.691471Z",
     "start_time": "2025-07-01T14:33:18.684349Z"
    }
   },
   "cell_type": "code",
   "source": "users.fillna({'Age': 0}, inplace=True)",
   "id": "52f4175fd0971f85",
   "outputs": [],
   "execution_count": 13
  },
  {
   "metadata": {
    "ExecuteTime": {
     "end_time": "2025-07-01T14:33:18.794326Z",
     "start_time": "2025-07-01T14:33:18.750534Z"
    }
   },
   "cell_type": "code",
   "source": [
    "users.loc[users['Age'] <= 3, 'Age'] = 0\n",
    "users[users['Age'] > 3].describe()"
   ],
   "id": "58baf92ff50d27cd",
   "outputs": [
    {
     "data": {
      "text/plain": [
       "             User-ID            Age\n",
       "count  167242.000000  167242.000000\n",
       "mean   139394.795972      34.925103\n",
       "std     80554.752563      14.258066\n",
       "min         2.000000       4.000000\n",
       "25%     69913.250000      24.000000\n",
       "50%    139361.500000      32.000000\n",
       "75%    209153.750000      44.000000\n",
       "max    278855.000000     244.000000"
      ],
      "text/html": [
       "<div>\n",
       "<style scoped>\n",
       "    .dataframe tbody tr th:only-of-type {\n",
       "        vertical-align: middle;\n",
       "    }\n",
       "\n",
       "    .dataframe tbody tr th {\n",
       "        vertical-align: top;\n",
       "    }\n",
       "\n",
       "    .dataframe thead th {\n",
       "        text-align: right;\n",
       "    }\n",
       "</style>\n",
       "<table border=\"1\" class=\"dataframe\">\n",
       "  <thead>\n",
       "    <tr style=\"text-align: right;\">\n",
       "      <th></th>\n",
       "      <th>User-ID</th>\n",
       "      <th>Age</th>\n",
       "    </tr>\n",
       "  </thead>\n",
       "  <tbody>\n",
       "    <tr>\n",
       "      <th>count</th>\n",
       "      <td>167242.000000</td>\n",
       "      <td>167242.000000</td>\n",
       "    </tr>\n",
       "    <tr>\n",
       "      <th>mean</th>\n",
       "      <td>139394.795972</td>\n",
       "      <td>34.925103</td>\n",
       "    </tr>\n",
       "    <tr>\n",
       "      <th>std</th>\n",
       "      <td>80554.752563</td>\n",
       "      <td>14.258066</td>\n",
       "    </tr>\n",
       "    <tr>\n",
       "      <th>min</th>\n",
       "      <td>2.000000</td>\n",
       "      <td>4.000000</td>\n",
       "    </tr>\n",
       "    <tr>\n",
       "      <th>25%</th>\n",
       "      <td>69913.250000</td>\n",
       "      <td>24.000000</td>\n",
       "    </tr>\n",
       "    <tr>\n",
       "      <th>50%</th>\n",
       "      <td>139361.500000</td>\n",
       "      <td>32.000000</td>\n",
       "    </tr>\n",
       "    <tr>\n",
       "      <th>75%</th>\n",
       "      <td>209153.750000</td>\n",
       "      <td>44.000000</td>\n",
       "    </tr>\n",
       "    <tr>\n",
       "      <th>max</th>\n",
       "      <td>278855.000000</td>\n",
       "      <td>244.000000</td>\n",
       "    </tr>\n",
       "  </tbody>\n",
       "</table>\n",
       "</div>"
      ]
     },
     "execution_count": 14,
     "metadata": {},
     "output_type": "execute_result"
    }
   ],
   "execution_count": 14
  },
  {
   "metadata": {
    "ExecuteTime": {
     "end_time": "2025-07-01T14:33:18.841764Z",
     "start_time": "2025-07-01T14:33:18.825168Z"
    }
   },
   "cell_type": "code",
   "source": [
    "mean = users['Age'][users['Age'] <= 3].mean()\n",
    "users['Age'] = users['Age'].replace(0, mean)"
   ],
   "id": "a29cce59ccfd66a4",
   "outputs": [],
   "execution_count": 15
  },
  {
   "metadata": {},
   "cell_type": "markdown",
   "source": "Ratings",
   "id": "89c9c10ff0c61630"
  },
  {
   "metadata": {
    "ExecuteTime": {
     "end_time": "2025-07-01T14:33:18.905625Z",
     "start_time": "2025-07-01T14:33:18.895384Z"
    }
   },
   "cell_type": "code",
   "source": "ratings.head()",
   "id": "c7c8ffaa707b6649",
   "outputs": [
    {
     "data": {
      "text/plain": [
       "   User-ID        ISBN  Book-Rating\n",
       "0   276725  034545104X            0\n",
       "1   276726  0155061224            5\n",
       "2   276727  0446520802            0\n",
       "3   276729  052165615X            3\n",
       "4   276729  0521795028            6"
      ],
      "text/html": [
       "<div>\n",
       "<style scoped>\n",
       "    .dataframe tbody tr th:only-of-type {\n",
       "        vertical-align: middle;\n",
       "    }\n",
       "\n",
       "    .dataframe tbody tr th {\n",
       "        vertical-align: top;\n",
       "    }\n",
       "\n",
       "    .dataframe thead th {\n",
       "        text-align: right;\n",
       "    }\n",
       "</style>\n",
       "<table border=\"1\" class=\"dataframe\">\n",
       "  <thead>\n",
       "    <tr style=\"text-align: right;\">\n",
       "      <th></th>\n",
       "      <th>User-ID</th>\n",
       "      <th>ISBN</th>\n",
       "      <th>Book-Rating</th>\n",
       "    </tr>\n",
       "  </thead>\n",
       "  <tbody>\n",
       "    <tr>\n",
       "      <th>0</th>\n",
       "      <td>276725</td>\n",
       "      <td>034545104X</td>\n",
       "      <td>0</td>\n",
       "    </tr>\n",
       "    <tr>\n",
       "      <th>1</th>\n",
       "      <td>276726</td>\n",
       "      <td>0155061224</td>\n",
       "      <td>5</td>\n",
       "    </tr>\n",
       "    <tr>\n",
       "      <th>2</th>\n",
       "      <td>276727</td>\n",
       "      <td>0446520802</td>\n",
       "      <td>0</td>\n",
       "    </tr>\n",
       "    <tr>\n",
       "      <th>3</th>\n",
       "      <td>276729</td>\n",
       "      <td>052165615X</td>\n",
       "      <td>3</td>\n",
       "    </tr>\n",
       "    <tr>\n",
       "      <th>4</th>\n",
       "      <td>276729</td>\n",
       "      <td>0521795028</td>\n",
       "      <td>6</td>\n",
       "    </tr>\n",
       "  </tbody>\n",
       "</table>\n",
       "</div>"
      ]
     },
     "execution_count": 16,
     "metadata": {},
     "output_type": "execute_result"
    }
   ],
   "execution_count": 16
  },
  {
   "metadata": {
    "ExecuteTime": {
     "end_time": "2025-07-01T14:33:19.175550Z",
     "start_time": "2025-07-01T14:33:18.962658Z"
    }
   },
   "cell_type": "code",
   "source": [
    "plt.hist(ratings['Book-Rating'], color='salmon', bins=range(1, 12), edgecolor='black', align='left')\n",
    "plt.xlabel('Rating')\n",
    "plt.ylabel('Count')\n",
    "plt.title('Distribution of explicit book ratings')\n",
    "plt.xticks(range(1, 11))\n",
    "plt.show()"
   ],
   "id": "e2b70d436fbef0db",
   "outputs": [
    {
     "data": {
      "text/plain": [
       "<Figure size 640x480 with 1 Axes>"
      ],
      "image/png": "[encoded data removed]"
     },
     "metadata": {},
     "output_type": "display_data"
    }
   ],
   "execution_count": 17
  },
  {
   "metadata": {},
   "cell_type": "markdown",
   "source": "We have explicit and implicit feedback...",
   "id": "d072a99afb6c8147"
  },
  {
   "metadata": {
    "ExecuteTime": {
     "end_time": "2025-07-01T14:33:19.597498Z",
     "start_time": "2025-07-01T14:33:19.205172Z"
    }
   },
   "cell_type": "code",
   "source": [
    "ratings_explicit = ratings[ratings['Book-Rating'] != 0] # choose only explicit ratings for now\n",
    "\n",
    "book_ratings = pd.merge(books, ratings_explicit, on='ISBN')\n",
    "implicit = 1 - len(book_ratings) / len(ratings)\n",
    "print(f\"Implicit ratings percentage: {implicit:.2%}\")"
   ],
   "id": "b805927ceee25251",
   "outputs": [
    {
     "name": "stdout",
     "output_type": "stream",
     "text": [
      "Implicit ratings percentage: 66.62%\n"
     ]
    }
   ],
   "execution_count": 18
  },
  {
   "metadata": {},
   "cell_type": "markdown",
   "source": "Get the user-book rating matrix",
   "id": "9a02bf35f62647e0"
  },
  {
   "metadata": {
    "ExecuteTime": {
     "end_time": "2025-07-01T14:33:19.749461Z",
     "start_time": "2025-07-01T14:33:19.631840Z"
    }
   },
   "cell_type": "code",
   "source": [
    "complete_df = book_ratings.merge(users, on=\"User-ID\") # create a triplet dataframe of users;rankings;books dataframes\n",
    "complete_df.head()"
   ],
   "id": "69da136ca840f8d1",
   "outputs": [
    {
     "data": {
      "text/plain": [
       "         ISBN    Book-Title           Book-Author  Year-Of-Publication  \\\n",
       "0  0002005018  clara callan  Richard Bruce Wright               2001.0   \n",
       "1  0002005018  clara callan  Richard Bruce Wright               2001.0   \n",
       "2  0002005018  clara callan  Richard Bruce Wright               2001.0   \n",
       "3  0002005018  clara callan  Richard Bruce Wright               2001.0   \n",
       "4  0002005018  clara callan  Richard Bruce Wright               2001.0   \n",
       "\n",
       "               Publisher  User-ID  Book-Rating Location   Age  \n",
       "0  HarperFlamingo Canada        8            5   canada   0.0  \n",
       "1  HarperFlamingo Canada    11676            8      n/a   0.0  \n",
       "2  HarperFlamingo Canada    67544            8   canada  30.0  \n",
       "3  HarperFlamingo Canada   116866            9            0.0  \n",
       "4  HarperFlamingo Canada   123629            9   canada   0.0  "
      ],
      "text/html": [
       "<div>\n",
       "<style scoped>\n",
       "    .dataframe tbody tr th:only-of-type {\n",
       "        vertical-align: middle;\n",
       "    }\n",
       "\n",
       "    .dataframe tbody tr th {\n",
       "        vertical-align: top;\n",
       "    }\n",
       "\n",
       "    .dataframe thead th {\n",
       "        text-align: right;\n",
       "    }\n",
       "</style>\n",
       "<table border=\"1\" class=\"dataframe\">\n",
       "  <thead>\n",
       "    <tr style=\"text-align: right;\">\n",
       "      <th></th>\n",
       "      <th>ISBN</th>\n",
       "      <th>Book-Title</th>\n",
       "      <th>Book-Author</th>\n",
       "      <th>Year-Of-Publication</th>\n",
       "      <th>Publisher</th>\n",
       "      <th>User-ID</th>\n",
       "      <th>Book-Rating</th>\n",
       "      <th>Location</th>\n",
       "      <th>Age</th>\n",
       "    </tr>\n",
       "  </thead>\n",
       "  <tbody>\n",
       "    <tr>\n",
       "      <th>0</th>\n",
       "      <td>0002005018</td>\n",
       "      <td>clara callan</td>\n",
       "      <td>Richard Bruce Wright</td>\n",
       "      <td>2001.0</td>\n",
       "      <td>HarperFlamingo Canada</td>\n",
       "      <td>8</td>\n",
       "      <td>5</td>\n",
       "      <td>canada</td>\n",
       "      <td>0.0</td>\n",
       "    </tr>\n",
       "    <tr>\n",
       "      <th>1</th>\n",
       "      <td>0002005018</td>\n",
       "      <td>clara callan</td>\n",
       "      <td>Richard Bruce Wright</td>\n",
       "      <td>2001.0</td>\n",
       "      <td>HarperFlamingo Canada</td>\n",
       "      <td>11676</td>\n",
       "      <td>8</td>\n",
       "      <td>n/a</td>\n",
       "      <td>0.0</td>\n",
       "    </tr>\n",
       "    <tr>\n",
       "      <th>2</th>\n",
       "      <td>0002005018</td>\n",
       "      <td>clara callan</td>\n",
       "      <td>Richard Bruce Wright</td>\n",
       "      <td>2001.0</td>\n",
       "      <td>HarperFlamingo Canada</td>\n",
       "      <td>67544</td>\n",
       "      <td>8</td>\n",
       "      <td>canada</td>\n",
       "      <td>30.0</td>\n",
       "    </tr>\n",
       "    <tr>\n",
       "      <th>3</th>\n",
       "      <td>0002005018</td>\n",
       "      <td>clara callan</td>\n",
       "      <td>Richard Bruce Wright</td>\n",
       "      <td>2001.0</td>\n",
       "      <td>HarperFlamingo Canada</td>\n",
       "      <td>116866</td>\n",
       "      <td>9</td>\n",
       "      <td></td>\n",
       "      <td>0.0</td>\n",
       "    </tr>\n",
       "    <tr>\n",
       "      <th>4</th>\n",
       "      <td>0002005018</td>\n",
       "      <td>clara callan</td>\n",
       "      <td>Richard Bruce Wright</td>\n",
       "      <td>2001.0</td>\n",
       "      <td>HarperFlamingo Canada</td>\n",
       "      <td>123629</td>\n",
       "      <td>9</td>\n",
       "      <td>canada</td>\n",
       "      <td>0.0</td>\n",
       "    </tr>\n",
       "  </tbody>\n",
       "</table>\n",
       "</div>"
      ]
     },
     "execution_count": 19,
     "metadata": {},
     "output_type": "execute_result"
    }
   ],
   "execution_count": 19
  },
  {
   "metadata": {},
   "cell_type": "markdown",
   "source": "Calculate the sparsity of our user-book ratings",
   "id": "741bd7098965dc4e"
  },
  {
   "metadata": {
    "ExecuteTime": {
     "end_time": "2025-07-01T14:33:19.811786Z",
     "start_time": "2025-07-01T14:33:19.804426Z"
    }
   },
   "cell_type": "code",
   "source": [
    "def compute_sparsity(ratings_df):\n",
    "    n_users = ratings_df['User-ID'].nunique()\n",
    "    n_books = ratings_df['ISBN'].nunique()\n",
    "    print(f\"Number of users: {n_users}\")\n",
    "    print(f\"Number of books: {n_books}\")\n",
    "\n",
    "    total_possible = n_users * n_books\n",
    "    actual_ratings = len(ratings_df)\n",
    "    print(f\"Actual ratings: {actual_ratings}\")\n",
    "    print(f\"Total possible ratings: {total_possible}\")\n",
    "\n",
    "    sparsity = 1 - (actual_ratings / total_possible)\n",
    "    print(f\"Sparsity of the user-book ratings: {sparsity:.7f}\")\n",
    "\n",
    "    return sparsity"
   ],
   "id": "15f1c3335fd785ac",
   "outputs": [],
   "execution_count": 20
  },
  {
   "metadata": {
    "ExecuteTime": {
     "end_time": "2025-07-01T14:33:19.923497Z",
     "start_time": "2025-07-01T14:33:19.869154Z"
    }
   },
   "cell_type": "code",
   "source": "sparsity = compute_sparsity(complete_df)",
   "id": "1d7a266aeb0fd987",
   "outputs": [
    {
     "name": "stdout",
     "output_type": "stream",
     "text": [
      "Number of users: 68091\n",
      "Number of books: 149832\n",
      "Actual ratings: 383838\n",
      "Total possible ratings: 10202210712\n",
      "Sparsity of the user-book ratings: 0.9999624\n"
     ]
    }
   ],
   "execution_count": 21
  },
  {
   "metadata": {},
   "cell_type": "markdown",
   "source": "Our data is very sparse. To try and mitgate this, we can filter out less popular books and inexperienced users",
   "id": "537a27026a235667"
  },
  {
   "metadata": {
    "ExecuteTime": {
     "end_time": "2025-07-01T14:33:20.189535Z",
     "start_time": "2025-07-01T14:33:19.930796Z"
    }
   },
   "cell_type": "code",
   "source": [
    "mask_users = complete_df.groupby('User-ID')['Book-Rating'] \\\n",
    "                        .transform('size') >= 15\n",
    "mask_books = complete_df.groupby('ISBN')['Book-Rating'] \\\n",
    "                         .transform('size') >= 10\n",
    "\n",
    "filtered_df = complete_df[mask_users & mask_books]"
   ],
   "id": "cc7114ee5885a70d",
   "outputs": [],
   "execution_count": 22
  },
  {
   "metadata": {
    "ExecuteTime": {
     "end_time": "2025-07-01T14:33:20.219873Z",
     "start_time": "2025-07-01T14:33:20.211660Z"
    }
   },
   "cell_type": "code",
   "source": "sparsity = compute_sparsity(filtered_df)",
   "id": "1280b5bd1ff05eaf",
   "outputs": [
    {
     "name": "stdout",
     "output_type": "stream",
     "text": [
      "Number of users: 4345\n",
      "Number of books: 5437\n",
      "Actual ratings: 77255\n",
      "Total possible ratings: 23623765\n",
      "Sparsity of the user-book ratings: 0.9967298\n"
     ]
    }
   ],
   "execution_count": 23
  },
  {
   "metadata": {},
   "cell_type": "markdown",
   "source": "I will train a classical SVD model and use the learned book vectors in latent space to do item to item similarity.",
   "id": "fd4c5f7c5c12c09c"
  },
  {
   "metadata": {},
   "cell_type": "markdown",
   "source": "If a root mean square error is around 1.5 on average. We can safely say that the average rating prediction of our model is off by no more than 1.5, since rmse is greater or equal to the mean absolute error",
   "id": "4461c25845987b87"
  },
  {
   "metadata": {},
   "cell_type": "code",
   "outputs": [],
   "execution_count": null,
   "source": [
    "from surprise import SVD, Dataset, Reader\n",
    "from surprise.model_selection import KFold\n",
    "from surprise import accuracy\n",
    "\n",
    "data_df = filtered_df[['User-ID', 'ISBN', 'Book-Rating']].copy()\n",
    "\n",
    "# create the model from surprise library and perform 5-fold cross-validation\n",
    "min_c, max_c = data_df['Book-Rating'].min(), data_df['Book-Rating'].max()\n",
    "reader = Reader(rating_scale=(min_c, max_c))\n",
    "data = Dataset.load_from_df(data_df, reader)\n",
    "model = SVD(n_factors=50)\n",
    "\n",
    "rmse_test, rmse_train = [], []\n",
    "kf = KFold(n_splits=5, random_state=42, shuffle=True)\n",
    "\n",
    "for fold, (train, test) in enumerate(kf.split(data)):\n",
    "    model.fit(train)\n",
    "\n",
    "    preds = model.test(test)\n",
    "    rmse_curr = accuracy.rmse(preds)\n",
    "    rmse_test.append(rmse_curr)\n",
    "\n",
    "    train_testset = train.build_testset()\n",
    "    preds = model.test(train_testset)\n",
    "    rmse_curr = accuracy.rmse(preds, verbose=False)\n",
    "    rmse_train.append(rmse_curr)\n",
    "\n",
    "print(f\"Mean test set RMSE: {np.mean(rmse_test):.4f}\")\n",
    "print(f\"Mean train set RMSE: {np.mean(rmse_train):.4f}\")"
   ],
   "id": "c77bbe2f7594fd5f"
  },
  {
   "metadata": {},
   "cell_type": "code",
   "outputs": [],
   "execution_count": 70,
   "source": [
    "import numpy as np\n",
    "\n",
    "isbn2title = {\n",
    "    isbn: title.strip().lower()\n",
    "    for isbn, title in zip(books['ISBN'], books['Book-Title'])\n",
    "}\n",
    "\n",
    "inner2title = {}\n",
    "for inner_id in range(train.n_items):\n",
    "    try:\n",
    "        raw_id = train.to_raw_iid(inner_id)\n",
    "        inner2title[inner_id] = isbn2title.get(raw_id, \"\").lower()\n",
    "    except ValueError:\n",
    "        continue\n",
    "\n",
    "title2inner = {\n",
    "    title: iid\n",
    "    for iid, title in inner2title.items()\n",
    "    if title\n",
    "}\n",
    "\n",
    "def book2book_retrieval(book_title, model, title2inner, inner2title, top_n=10):\n",
    "    key = book_title.lower()\n",
    "    if key not in title2inner:\n",
    "        # find a partial match\n",
    "        for inner_id, title in inner2title.items():\n",
    "            if book_title.lower() in title:\n",
    "                key = title\n",
    "                break\n",
    "        else:\n",
    "            print(f\"No match found for '{book_title}'\")\n",
    "            return []\n",
    "        print(f\"No exact match for '{book_title}' found. Showing results for '{key}' instead.\")\n",
    "\n",
    "    inner_id = title2inner[key]\n",
    "\n",
    "    # cosine sim\n",
    "    q = model.qi[inner_id]\n",
    "    q_norm = q / np.linalg.norm(q)\n",
    "    db_norm = model.qi / np.linalg.norm(model.qi, axis=1, keepdims=True)\n",
    "    sims = db_norm.dot(q_norm)\n",
    "\n",
    "    recs = [\n",
    "        (inner2title[iid], round(score, 3))\n",
    "        for iid, score in enumerate(sims)\n",
    "        if iid != inner_id\n",
    "    ]\n",
    "    recs.sort(key=lambda x: x[1], reverse=True)\n",
    "    return recs[:top_n]"
   ],
   "id": "e259589eb0c92699"
  },
  {
   "metadata": {},
   "cell_type": "code",
   "outputs": [
    {
     "name": "stdout",
     "output_type": "stream",
     "text": [
      "1000\n"
     ]
    }
   ],
   "execution_count": 66,
   "source": [
    "book_of_interest = 'the lord of the rings'\n",
    "print(title2inner[book_of_interest])"
   ],
   "id": "499170665d1ad126"
  },
  {
   "metadata": {
    "ExecuteTime": {
     "end_time": "2025-07-01T14:46:39.606679Z",
     "start_time": "2025-07-01T14:46:39.496911Z"
    }
   },
   "cell_type": "code",
   "source": "book2book_retrieval(book_of_interest, model, title2inner, inner2title, top_n=10)",
   "id": "b6690337dda6a14c",
   "outputs": [
    {
     "data": {
      "text/plain": [
       "[('the hobbit (young adult edition, sis cover)', 0.488),\n",
       " ('waiting to exhale', 0.451),\n",
       " ('ex libris : confessions of a common reader', 0.44),\n",
       " ('perfect victim', 0.431),\n",
       " (\"robert ludlum's the hades factor\", 0.427),\n",
       " ('the alienist', 0.423),\n",
       " ('grand avenue', 0.423),\n",
       " ('prime witness', 0.422),\n",
       " ('a moveable feast', 0.418),\n",
       " ('cavedweller', 0.417)]"
      ]
     },
     "execution_count": 80,
     "metadata": {},
     "output_type": "execute_result"
    }
   ],
   "execution_count": 80
  },
  {
   "metadata": {
    "ExecuteTime": {
     "end_time": "2025-07-01T14:46:52.698259Z",
     "start_time": "2025-07-01T14:46:52.420531Z"
    }
   },
   "cell_type": "code",
   "source": [
    "# import pickle\n",
    "#\n",
    "# with open(\"models/svd_model/model2.pkl\", \"wb\") as f:\n",
    "#     pickle.dump(model, f)\n",
    "#\n",
    "# with open(\"models/svd_model/title2inner2.pkl\", \"wb\") as f:\n",
    "#     pickle.dump(title2inner, f)\n",
    "#\n",
    "# with open(\"models/svd_model/inner2title2.pkl\", \"wb\") as f:\n",
    "#     pickle.dump(inner2title, f)"
   ],
   "id": "a54cdf568ed5cadb",
   "outputs": [],
   "execution_count": 81
  },
  {
   "metadata": {},
   "cell_type": "markdown",
   "source": "Since the feedback is so sparse, I'll try a NN based approach incorporate book and user metadata. For that, I need to do some more data preprocessing",
   "id": "18e409dc272ecd10"
  },
  {
   "metadata": {},
   "cell_type": "code",
   "source": [
    "# arbitrarily chosen ranges\n",
    "age_intervals = [0, 12, 18, 25, 40, 1000]\n",
    "year_intervals = [0, 1950, 1980, 2000, 2010, 9999]"
   ],
   "id": "b407f9e45b8f2220",
   "outputs": [],
   "execution_count": null
  },
  {
   "metadata": {},
   "cell_type": "code",
   "source": [
    "import torch\n",
    "class Loader(torch.utils.data.Dataset):\n",
    "    def __init__(self, df):\n",
    "        self.ratings = df.copy()\n",
    "        mappings = {\n",
    "            'usr2idx': 'User-ID',\n",
    "            'book2idx': 'ISBN',\n",
    "            'loc2idx': 'Location',\n",
    "            'auth2idx': 'Book-Author',\n",
    "        }\n",
    "\n",
    "        for attr, col in mappings.items():\n",
    "            unique_vals = df[col].unique()\n",
    "            setattr(self, attr, {val: i for i, val in enumerate(unique_vals)})\n",
    "\n",
    "        self.idx2usr = {u: i for i, u in self.usr2idx.items()}\n",
    "        self.idx2book = {b: i for i, b in self.book2idx.items()}\n",
    "        self.idx2auth = {a: i for i, a in self.auth2idx.items()}\n",
    "\n",
    "        self.ratings['ISBN'] = df['ISBN'].apply(lambda x: self.book2idx[x])\n",
    "        self.ratings['User-ID'] = df['User-ID'].apply(lambda x: self.usr2idx[x])\n",
    "\n",
    "        self.ratings['Book-Author'] = df['Book-Author'].apply(lambda x: self.auth2idx[x])\n",
    "        self.ratings['Location'] = df['Location'].apply(lambda x: self.loc2idx[x])\n",
    "\n",
    "        self.ratings['Year-Of-Publication'] = pd.cut(\n",
    "            df['Year-Of-Publication'],\n",
    "            bins=year_intervals,\n",
    "            labels=False,\n",
    "            include_lowest=True\n",
    "        ).fillna(0).astype(int)\n",
    "\n",
    "        self.ratings['Age'] = pd.cut(\n",
    "            df['Age'],\n",
    "            bins=age_intervals,\n",
    "            labels=False,\n",
    "            include_lowest=True\n",
    "        ).fillna(0).astype(int)\n",
    "\n",
    "        self.x = self.ratings[[\n",
    "            'ISBN',\n",
    "            'User-ID',\n",
    "            'Book-Author', 'Year-Of-Publication',\n",
    "            'Location', 'Age'\n",
    "        ]].to_numpy(dtype=int)\n",
    "\n",
    "        self.y = self.ratings['Book-Rating'].to_numpy(float)\n",
    "\n",
    "        self.x = torch.tensor(self.x, dtype=torch.long)\n",
    "        self.y = torch.tensor(self.y, dtype=torch.float32)\n",
    "\n",
    "    def __getitem__(self, idx):\n",
    "        return self.x[idx], self.y[idx]\n",
    "\n",
    "    def __len__(self):\n",
    "        return len(self.ratings)"
   ],
   "id": "1c25436aafc60b39",
   "outputs": [],
   "execution_count": null
  },
  {
   "metadata": {},
   "cell_type": "code",
   "source": [
    "import torch\n",
    "class Recommender(torch.nn.Module): # neural collaborative with feature embeddings\n",
    "    def __init__(self, n_users, n_items, n_locations, n_authors, hidden_dim=64, hidden_meta_dim=8, dropout=0.3):\n",
    "        super().__init__()\n",
    "\n",
    "        # embeddings\n",
    "        self.user_embedding = torch.nn.Embedding(n_users, hidden_dim)\n",
    "        self.item_embedding = torch.nn.Embedding(n_items, hidden_dim)\n",
    "        self.user_meta_embedding = torch.nn.Embedding(5 * n_locations, hidden_meta_dim)\n",
    "        self.item_meta_embedding = torch.nn.Embedding(5 * n_authors, hidden_meta_dim)\n",
    "\n",
    "        # bias terms\n",
    "        self.user_bias = torch.nn.Embedding(n_users, 1)\n",
    "        self.item_bias = torch.nn.Embedding(n_items, 1)\n",
    "        self.global_bias = torch.nn.Parameter(torch.zeros(1))\n",
    "\n",
    "        # head\n",
    "        self.head = torch.nn.Sequential(\n",
    "            # torch.nn.Linear(hidden_dim * 2, hidden_dim),\n",
    "            torch.nn.Linear(hidden_dim * 2 + (hidden_meta_dim * 2) * 2, hidden_dim + (hidden_meta_dim * 2)),\n",
    "            torch.nn.Dropout(dropout),\n",
    "            torch.nn.ReLU(),\n",
    "            # torch.nn.LazyLinear(hidden_dim // 2),\n",
    "            torch.nn.LazyLinear(hidden_dim + (hidden_meta_dim * 2) // 2),\n",
    "            torch.nn.Dropout(dropout),\n",
    "            torch.nn.ReLU(),\n",
    "            torch.nn.LazyLinear(1)\n",
    "        )\n",
    "\n",
    "    def forward(self, x):\n",
    "        bsz = x.shape[0]\n",
    "        item_encoded, user_encoded = x[:, 0], x[:, 1]\n",
    "        item_meta_encoded = x[:, 2:4]\n",
    "        user_meta_encoded = x[:, 4:6]\n",
    "\n",
    "        # embeddings\n",
    "        user_emb = self.user_embedding(user_encoded)\n",
    "        item_emb = self.item_embedding(item_encoded)\n",
    "        user_meta_emb = self.user_meta_embedding(user_meta_encoded).view(bsz, -1)\n",
    "        item_meta_emb = self.item_meta_embedding(item_meta_encoded).view(bsz, -1)\n",
    "\n",
    "        # combine embeddings\n",
    "        user_hidden = torch.cat((user_emb, user_meta_emb), dim=1)\n",
    "        item_hidden = torch.cat((item_emb, item_meta_emb), dim=1)\n",
    "        hidden = torch.cat((user_hidden, item_hidden), dim=1)\n",
    "\n",
    "        out = self.head(hidden).squeeze(-1)\n",
    "\n",
    "        # prediction = out + user_b + item_b + self.global_bias\n",
    "        return out"
   ],
   "id": "4814080c5802103d",
   "outputs": [],
   "execution_count": null
  },
  {
   "metadata": {},
   "cell_type": "code",
   "source": [
    "batch_size = 64\n",
    "epochs = 50\n",
    "\n",
    "nn_model = Recommender(filtered_df['User-ID'].nunique(), filtered_df['ISBN'].nunique(),\n",
    "filtered_df['Location'].nunique(), filtered_df['Book-Author'].nunique())\n",
    "\n",
    "optimizer = torch.optim.AdamW(nn_model.parameters(), lr=1e-3, weight_decay=1e-3)\n",
    "\n",
    "split_idx = int(0.8 * len(filtered_df))\n",
    "train_df = filtered_df[:split_idx]\n",
    "test_df = filtered_df[split_idx:]\n",
    "\n",
    "train_data = Loader(train_df)\n",
    "test_data = Loader(test_df)\n",
    "\n",
    "train = torch.utils.data.DataLoader(train_data, batch_size, shuffle=True)\n",
    "test = torch.utils.data.DataLoader(test_data, batch_size, shuffle=False)\n",
    "\n",
    "print(len(train))"
   ],
   "id": "e83ca127633d59e6",
   "outputs": [],
   "execution_count": null
  },
  {
   "metadata": {},
   "cell_type": "code",
   "source": [
    "for i in range(epochs):\n",
    "    nn_model.train()\n",
    "    train_losses = []\n",
    "    for (x, y) in train:\n",
    "        optimizer.zero_grad()\n",
    "        y_pred = nn_model(x)\n",
    "        metric = torch.sqrt(torch.nn.functional.mse_loss(y_pred.sigmoid()* 10, y))\n",
    "        loss = torch.nn.functional.binary_cross_entropy_with_logits(y_pred, y/10)\n",
    "        train_losses.append(metric.item())\n",
    "        loss.backward()\n",
    "        optimizer.step()\n",
    "\n",
    "    nn_model.eval()\n",
    "    test_losses = []\n",
    "    with torch.no_grad():\n",
    "        for (x, y) in test:\n",
    "            y_pred = nn_model(x).squeeze(-1)\n",
    "            loss = torch.sqrt(torch.nn.functional.mse_loss(y_pred.sigmoid() * 10, y))\n",
    "            test_losses.append(loss.item())\n",
    "\n",
    "    train_rmse = np.mean(train_losses)\n",
    "    test_rmse = np.mean(test_losses)\n",
    "    print(f'Epoch {i+1}/{epochs} - Train RMSE: {train_rmse:.4f}, Test RMSE: {test_rmse:.4f}')"
   ],
   "id": "8af3bcb472d5dd57",
   "outputs": [],
   "execution_count": null
  },
  {
   "metadata": {},
   "cell_type": "code",
   "source": [
    "# def book2book_retrieval(book_title, train, model, book2idx, idx2book, top_n=10):\n",
    "#     key = book_title.lower()\n",
    "#     if key not in title2inner:\n",
    "#         # find a partial match\n",
    "#         for inner_id, title in inner2title.items():\n",
    "#             if book_title.lower() in title:\n",
    "#                 key = title\n",
    "#                 break\n",
    "#         else:\n",
    "#             print(f\"No match found for '{book_title}'\")\n",
    "#             return []\n",
    "#         print(f\"No exact match for '{book_title}' found. Showing results for '{key}' instead.\")\n",
    "#\n",
    "#     inner_id = title2inner[key]\n",
    "#\n",
    "#     # cosine sim\n",
    "#     author = train.ratings.loc[train.ratings['ISBN'] == inner_id, 'Book-Author'].iloc[0]\n",
    "#     year_bin = train.ratings.loc[train.ratings['ISBN'] == inner_id, 'Year-Of-Publication'].iloc[0]\n",
    "#     sims = model.item_embeddings()\n",
    "#\n",
    "#     recs = [\n",
    "#         (inner2title[iid], round(score, 3))\n",
    "#         for iid, score in enumerate(sims)\n",
    "#         if iid != inner_id\n",
    "#     ]\n",
    "#     recs.sort(key=lambda x: x[1], reverse=True)\n",
    "#     return recs[:top_n]"
   ],
   "id": "c771d5a442eeccb7",
   "outputs": [],
   "execution_count": null
  },
  {
   "metadata": {},
   "cell_type": "code",
   "source": "book2book_retrieval()",
   "id": "bb6a165ceb6b8efb",
   "outputs": [],
   "execution_count": null
  }
 ],
 "metadata": {},
 "nbformat": 4,
 "nbformat_minor": 5
}
